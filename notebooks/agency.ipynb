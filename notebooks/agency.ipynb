{
 "cells": [
  {
   "cell_type": "code",
   "execution_count": 2,
   "id": "fba305f8",
   "metadata": {},
   "outputs": [],
   "source": [
    "import os\n",
    "os.environ['DJANGO_ALLOW_ASYNC_UNSAFE'] = 'True'\n",
    "from wagtail.admin.auth import get_user_model\n",
    "User = get_user_model()\n",
    "\n",
    "AGENCY_TITLE = 'Mon Agence'"
   ]
  },
  {
   "cell_type": "code",
   "execution_count": 3,
   "id": "cbc05873",
   "metadata": {},
   "outputs": [],
   "source": [
    "from wagtail.core.models import Page\n",
    "from realestate.models import AgencyPage\n",
    "\n",
    "def agency_create():\n",
    "    home = Page.objects.filter(title='Home')[0]\n",
    "\n",
    "    page = AgencyPage(\n",
    "            title=AGENCY_TITLE,\n",
    "            # show_in_menus=True,\n",
    "            agency_name=\"My Agency\",\n",
    "            depth='00010',\n",
    "            slug='agency',\n",
    "            path=\"/agency\",\n",
    "            address_street='56 rue de la poste',\n",
    "            address_city='La Garde',\n",
    "            address_zip='83500',\n",
    "            address_country='France',\n",
    "     )\n",
    "    # page.add_root(instance=home)\n",
    "    home.add_child(instance=page)\n"
   ]
  },
  {
   "cell_type": "code",
   "execution_count": 4,
   "id": "453a0440",
   "metadata": {},
   "outputs": [],
   "source": [
    "def agency_delete():\n",
    "    page = Page.objects.filter(title=AGENCY_TITLE)[0]\n",
    "    page.delete()"
   ]
  },
  {
   "cell_type": "code",
   "execution_count": 5,
   "id": "22ed9083",
   "metadata": {},
   "outputs": [],
   "source": [
    "# agency_delete()\n",
    "agency_create()"
   ]
  },
  {
   "cell_type": "code",
   "execution_count": 6,
   "id": "20266dbf",
   "metadata": {},
   "outputs": [
    {
     "data": {
      "text/plain": [
       "<PageQuerySet [<Page: Root>, <Page: Home>, <Page: Mon Agence>]>"
      ]
     },
     "execution_count": 6,
     "metadata": {},
     "output_type": "execute_result"
    }
   ],
   "source": [
    "from wagtail.core.models import Page\n",
    "\n",
    "Page.objects.all()"
   ]
  }
 ],
 "metadata": {
  "kernelspec": {
   "display_name": "Django Shell-Plus",
   "language": "python",
   "name": "django_extensions"
  },
  "language_info": {
   "codemirror_mode": {
    "name": "ipython",
    "version": 3
   },
   "file_extension": ".py",
   "mimetype": "text/x-python",
   "name": "python",
   "nbconvert_exporter": "python",
   "pygments_lexer": "ipython3",
   "version": "3.8.10"
  }
 },
 "nbformat": 4,
 "nbformat_minor": 5
}
