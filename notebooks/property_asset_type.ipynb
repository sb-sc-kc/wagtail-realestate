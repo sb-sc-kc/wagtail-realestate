{
 "cells": [
  {
   "cell_type": "code",
   "execution_count": 1,
   "id": "d947c3c4",
   "metadata": {},
   "outputs": [],
   "source": [
    "import os\n",
    "os.environ['DJANGO_ALLOW_ASYNC_UNSAFE'] = 'True'\n",
    "from wagtail.admin.auth import get_user_model\n",
    "User = get_user_model()"
   ]
  },
  {
   "cell_type": "code",
   "execution_count": 2,
   "id": "5860e934",
   "metadata": {},
   "outputs": [],
   "source": [
    "group = Group.objects.filter(name='Customers')[0]\n",
    "group.get_deferred_fields()\n",
    "user = User.objects.filter(username='gorwell')[0]"
   ]
  },
  {
   "cell_type": "code",
   "execution_count": 6,
   "id": "0d3aea08",
   "metadata": {},
   "outputs": [],
   "source": [
    "from realestate.models import PropertyAssetType\n",
    "\n",
    "def asset_types_create():\n",
    "    for label in ('T1', 'T2', 'T3', 'Villa', 'Domaine'):\n",
    "        pat = PropertyAssetType.objects.create(label=label)\n",
    "        pat.save()"
   ]
  },
  {
   "cell_type": "code",
   "execution_count": 23,
   "id": "29f6b643",
   "metadata": {},
   "outputs": [],
   "source": [
    "def asset_types_delete():\n",
    "    for at in PropertyAssetType.objects.all():\n",
    "        at.delete()"
   ]
  },
  {
   "cell_type": "code",
   "execution_count": 16,
   "id": "370a8202",
   "metadata": {
    "scrolled": false
   },
   "outputs": [],
   "source": [
    "def asset_type_list():\n",
    "    for pat in PropertyAssetType.objects.all():\n",
    "        print(pat.pk, pat)"
   ]
  },
  {
   "cell_type": "code",
   "execution_count": 25,
   "id": "8a3c3d15",
   "metadata": {},
   "outputs": [],
   "source": [
    "asset_types_create()"
   ]
  },
  {
   "cell_type": "code",
   "execution_count": 26,
   "id": "64f36b28",
   "metadata": {},
   "outputs": [
    {
     "name": "stdout",
     "output_type": "stream",
     "text": [
      "T1\n",
      "T2\n",
      "T3\n",
      "Villa\n",
      "Domaine\n"
     ]
    }
   ],
   "source": [
    "for at in PropertyAssetType.objects.all():\n",
    "    print('{label:s}'.format(label=at.label))"
   ]
  }
 ],
 "metadata": {
  "kernelspec": {
   "display_name": "Django Shell-Plus",
   "language": "python",
   "name": "django_extensions"
  },
  "language_info": {
   "codemirror_mode": {
    "name": "ipython",
    "version": 3
   },
   "file_extension": ".py",
   "mimetype": "text/x-python",
   "name": "python",
   "nbconvert_exporter": "python",
   "pygments_lexer": "ipython3",
   "version": "3.8.10"
  }
 },
 "nbformat": 4,
 "nbformat_minor": 5
}
