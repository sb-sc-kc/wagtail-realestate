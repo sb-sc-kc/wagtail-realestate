{
 "cells": [
  {
   "cell_type": "code",
   "execution_count": 1,
   "id": "e8f079c3",
   "metadata": {},
   "outputs": [],
   "source": [
    "import os\n",
    "os.environ['DJANGO_ALLOW_ASYNC_UNSAFE'] = 'True'\n",
    "from wagtail.admin.auth import get_user_model\n",
    "User = get_user_model()\n",
    "DO_LOAD = False"
   ]
  },
  {
   "cell_type": "code",
   "execution_count": 3,
   "id": "ffc5d867",
   "metadata": {},
   "outputs": [],
   "source": [
    "from wagtail.core.models import Page\n",
    "from realestate.models import RentalOfferIndexPage, SaleOfferIndexPage"
   ]
  },
  {
   "cell_type": "code",
   "execution_count": 16,
   "id": "7168135f",
   "metadata": {},
   "outputs": [
    {
     "data": {
      "text/plain": [
       "<PageQuerySet [<Page: Root>, <Page: Home>, <Page: Mon Agence>, <Page: Assets>, <Page: Villa en bord de mer>, <Page: Villa les pieds dans l'eau>, <Page: Studio à la montagne>, <Page: Studio à Isola>, <Page: Villa en provence côte>, <Page: Vente Villa provence côte>, <Page: Villa en provence verte>, <Page: Vente Villa provence verte>, <Page: Rental Offers>, <Page: Sale Offers>]>"
      ]
     },
     "execution_count": 16,
     "metadata": {},
     "output_type": "execute_result"
    }
   ],
   "source": [
    "Page.objects.all()"
   ]
  },
  {
   "cell_type": "code",
   "execution_count": 19,
   "id": "309e754d",
   "metadata": {},
   "outputs": [],
   "source": [
    "pages = OfferPage.objects.all().specific()"
   ]
  },
  {
   "cell_type": "code",
   "execution_count": 22,
   "id": "02a21191",
   "metadata": {},
   "outputs": [
    {
     "data": {
      "text/plain": [
       "[<Page: Villa en bord de mer>,\n",
       " <Page: Studio à la montagne>,\n",
       " <Page: Villa en provence côte>,\n",
       " <Page: Villa en provence verte>]"
      ]
     },
     "execution_count": 22,
     "metadata": {},
     "output_type": "execute_result"
    }
   ],
   "source": [
    "[page.get_parent() for page in pages]"
   ]
  },
  {
   "cell_type": "code",
   "execution_count": 2,
   "id": "b0d4668c",
   "metadata": {},
   "outputs": [],
   "source": [
    "if DO_LOAD:\n",
    "    home = Page.objects.filter(title='Home')[0]\n",
    "\n",
    "    page = RentalOfferIndexPage(\n",
    "        title='Rental Offers',\n",
    "        slug='rental-offers',\n",
    "        path='rental-offers',    \n",
    "    )\n",
    "    home.add_child(instance=page)\n",
    "\n",
    "    page = SaleOfferIndexPage(\n",
    "        title='Sale Offers',\n",
    "        slug='sale-offers',\n",
    "        path='sale-offers',    \n",
    "    )\n",
    "    home.add_child(instance=page)"
   ]
  },
  {
   "cell_type": "code",
   "execution_count": 11,
   "id": "589a9b9b",
   "metadata": {},
   "outputs": [],
   "source": [
    "items = [(item.slug, item.get_parent().specific.main_image()) for item in RentalOfferPage.objects.all()]"
   ]
  },
  {
   "cell_type": "code",
   "execution_count": 15,
   "id": "1ae9e1a5",
   "metadata": {},
   "outputs": [
    {
     "name": "stdout",
     "output_type": "stream",
     "text": [
      "original_images/studio-montagne-01.jpg\n"
     ]
    }
   ],
   "source": [
    "for slug, item in items:\n",
    "    if item:\n",
    "        print(item.file)"
   ]
  }
 ],
 "metadata": {
  "kernelspec": {
   "display_name": "Django Shell-Plus",
   "language": "python",
   "name": "django_extensions"
  },
  "language_info": {
   "codemirror_mode": {
    "name": "ipython",
    "version": 3
   },
   "file_extension": ".py",
   "mimetype": "text/x-python",
   "name": "python",
   "nbconvert_exporter": "python",
   "pygments_lexer": "ipython3",
   "version": "3.8.10"
  }
 },
 "nbformat": 4,
 "nbformat_minor": 5
}
