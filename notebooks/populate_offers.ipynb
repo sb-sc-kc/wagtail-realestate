{
 "cells": [
  {
   "cell_type": "code",
   "execution_count": null,
   "id": "15c4afe3",
   "metadata": {},
   "outputs": [],
   "source": [
    "import os\n",
    "os.environ['DJANGO_ALLOW_ASYNC_UNSAFE'] = 'True'\n",
    "from wagtail.admin.auth import get_user_model\n",
    "User = get_user_model()"
   ]
  },
  {
   "cell_type": "code",
   "execution_count": null,
   "id": "6312ef87",
   "metadata": {},
   "outputs": [],
   "source": [
    "from scripts import utils, offers"
   ]
  },
  {
   "cell_type": "code",
   "execution_count": null,
   "id": "b5e18489",
   "metadata": {},
   "outputs": [],
   "source": [
    "from wagtail.core.models import Page\n",
    "from realestate.models import (PropertyAssetIndexPage, \n",
    "                               PropertyAssetPage, \n",
    "                               PropertyAssetType,\n",
    "                               RentalOfferPage, \n",
    "                               SaleOfferPage)\n",
    "import datetime"
   ]
  },
  {
   "cell_type": "code",
   "execution_count": null,
   "id": "6384aa34",
   "metadata": {},
   "outputs": [],
   "source": [
    "asset = PropertyAssetPage.objects.filter(slug='studio-montagne')[0]"
   ]
  },
  {
   "cell_type": "code",
   "execution_count": null,
   "id": "d7cbeeed",
   "metadata": {},
   "outputs": [],
   "source": [
    "pagedata = {\n",
    "    'title': 'Studio à Isola', \n",
    "    'slug': 'rental-studio-isola',\n",
    "    'path': 'rental-studio-isola',\n",
    "    'depth': '00010',\n",
    "    'start_date': datetime.datetime(year=2021, month=8, day=20, hour=12),\n",
    "    'end_date': datetime.datetime(year=2021, month=8, day=27, hour=12),\n",
    "    'price': 1500,\n",
    "    'deposit': 750,\n",
    "    'description': offers.STR1,\n",
    "}\n",
    "\n",
    "page = RentalOfferPage(**pagedata)\n",
    "# page.tags.add('Montagne')\n",
    "asset.add_child(instance=page)"
   ]
  },
  {
   "cell_type": "code",
   "execution_count": null,
   "id": "b1610c2e",
   "metadata": {},
   "outputs": [],
   "source": [
    "def create_offer_1():\n",
    "    asset = PropertyAssetPage.objects.filter(slug='studio-montagne')[0]\n",
    "\n",
    "    pagedata = {\n",
    "        'title': 'Studio à Isola', \n",
    "        'slug': 'rental-studio-isola',\n",
    "        'path': 'rental-studio-isola',\n",
    "        'depth': '00010',\n",
    "        'start_date': datetime.datetime(year=2021, month=8, day=20, hour=12),\n",
    "        'end_date': datetime.datetime(year=2021, month=8, day=27, hour=12),\n",
    "        'price': 1500,\n",
    "        'deposit': 750,\n",
    "        'description': offers.STR1,\n",
    "    }\n",
    "\n",
    "    page = RentalOfferPage(**pagedata)\n",
    "    # page.tags.add('Montagne')\n",
    "    asset.add_child(instance=page)"
   ]
  },
  {
   "cell_type": "code",
   "execution_count": null,
   "id": "0d4241fc",
   "metadata": {},
   "outputs": [],
   "source": [
    "def create_offer_2():\n",
    "    asset = PropertyAssetPage.objects.filter(slug='maison-provence-01')[0]\n",
    "    pagedata = {\n",
    "        'title': \"Villa les pieds dans l'eau\", \n",
    "        'slug': 'rental-villa-plage',\n",
    "        'path': 'rental-villa-plage',\n",
    "        'depth': '00010',\n",
    "        'start_date': datetime.datetime(year=2021, month=8, day=20, hour=12),\n",
    "        'end_date': datetime.datetime(year=2021, month=8, day=27, hour=12),\n",
    "        'price': 2500,\n",
    "        'deposit': 3000,\n",
    "        'description': offers.STR2,\n",
    "    }\n",
    "\n",
    "    page = RentalOfferPage(**pagedata)\n",
    "    # page.tags.add('Montagne')\n",
    "    asset.add_child(instance=page)"
   ]
  },
  {
   "cell_type": "code",
   "execution_count": null,
   "id": "e925d85a",
   "metadata": {},
   "outputs": [],
   "source": [
    "def create_offer_3():\n",
    "    asset = PropertyAssetPage.objects.filter(slug='maison-provence-01')[0]\n",
    "    pagedata = {\n",
    "        'title': \"Vente Villa provence côte\", \n",
    "        'slug': 'sale-maison-provence-01',\n",
    "        'path': 'sale-maison-provence-01',\n",
    "        'depth': '00010',\n",
    "        'price': 2500000,\n",
    "        'description': offers.STR2,\n",
    "    }\n",
    "\n",
    "    page = SaleOfferPage(**pagedata)\n",
    "    # page.tags.add('Montagne')\n",
    "    asset.add_child(instance=page)"
   ]
  },
  {
   "cell_type": "code",
   "execution_count": null,
   "id": "964e0542",
   "metadata": {},
   "outputs": [],
   "source": [
    "def create_offer_4():\n",
    "    asset = PropertyAssetPage.objects.filter(slug='maison-provence-02')[0]\n",
    "    pagedata = {\n",
    "        'title': \"Vente Villa provence verte\", \n",
    "        'slug': 'sale-maison-provence-02',\n",
    "        'path': 'sale-maison-provence-02',\n",
    "        'depth': '00010',\n",
    "        'price': 2200000,\n",
    "        'description': offers.STR1,\n",
    "    }\n",
    "\n",
    "    page = SaleOfferPage(**pagedata)\n",
    "    # page.tags.add('Montagne')\n",
    "    asset.add_child(instance=page)"
   ]
  },
  {
   "cell_type": "code",
   "execution_count": null,
   "id": "aa2491e4",
   "metadata": {
    "scrolled": true
   },
   "outputs": [],
   "source": [
    "def list_assets():\n",
    "    [print(page.pk, page.title, page.slug) for page in PropertyAssetPage.objects.all()]"
   ]
  },
  {
   "cell_type": "code",
   "execution_count": null,
   "id": "280c3e3d",
   "metadata": {},
   "outputs": [],
   "source": [
    "def list_offers():\n",
    "    [print(item.pk, item.slug) for item in OfferPage.objects.all().specific()]\n",
    "\n",
    "def list_rental_offers():\n",
    "    [print(item.pk, item.slug) for item in RentalOfferPage.objects.all()]"
   ]
  },
  {
   "cell_type": "code",
   "execution_count": null,
   "id": "a57591f9",
   "metadata": {},
   "outputs": [],
   "source": [
    "def create_offers():\n",
    "    create_offer_1()\n",
    "    create_offer_2()\n",
    "    create_offer_3()\n",
    "    create_offer_4()"
   ]
  },
  {
   "cell_type": "code",
   "execution_count": null,
   "id": "03f9ea5e",
   "metadata": {},
   "outputs": [],
   "source": [
    "[print(item.pk, item.slug) for item in SaleOfferPage.objects.all().specific()]"
   ]
  },
  {
   "cell_type": "code",
   "execution_count": null,
   "id": "d06be3f8",
   "metadata": {},
   "outputs": [],
   "source": [
    "list_offers()"
   ]
  },
  {
   "cell_type": "code",
   "execution_count": null,
   "id": "aba53627",
   "metadata": {},
   "outputs": [],
   "source": [
    "list_assets()"
   ]
  },
  {
   "cell_type": "code",
   "execution_count": null,
   "id": "13250c2e",
   "metadata": {},
   "outputs": [],
   "source": [
    "create_offers()"
   ]
  }
 ],
 "metadata": {
  "kernelspec": {
   "display_name": "Django Shell-Plus",
   "language": "python",
   "name": "django_extensions"
  },
  "language_info": {
   "codemirror_mode": {
    "name": "ipython",
    "version": 3
   },
   "file_extension": ".py",
   "mimetype": "text/x-python",
   "name": "python",
   "nbconvert_exporter": "python",
   "pygments_lexer": "ipython3",
   "version": "3.8.10"
  }
 },
 "nbformat": 4,
 "nbformat_minor": 5
}
