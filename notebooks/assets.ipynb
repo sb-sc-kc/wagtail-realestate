{
 "cells": [
  {
   "cell_type": "code",
   "execution_count": 1,
   "id": "15c4afe3",
   "metadata": {},
   "outputs": [],
   "source": [
    "import os\n",
    "os.environ['DJANGO_ALLOW_ASYNC_UNSAFE'] = 'True'\n",
    "from wagtail.admin.auth import get_user_model\n",
    "User = get_user_model()"
   ]
  },
  {
   "cell_type": "code",
   "execution_count": 2,
   "id": "b1610c2e",
   "metadata": {},
   "outputs": [],
   "source": [
    "from wagtail.core.models import Page\n",
    "from realestate.models import PropertyAssetIndexPage, PropertyAssetPage, PropertyAssetType\n",
    "\n",
    "def create_assets_page():\n",
    "    home = Page.objects.filter(title='Home')[0]\n",
    "    pagedata = {\n",
    "        'path': 'assets',\n",
    "        'depth': 4, \n",
    "        'title': 'Assets', \n",
    "        'slug': 'assets'\n",
    "    }\n",
    "    page = PropertyAssetIndexPage(**pagedata)\n",
    "    home.add_child(instance=page)"
   ]
  },
  {
   "cell_type": "code",
   "execution_count": 3,
   "id": "9b7045b2",
   "metadata": {},
   "outputs": [],
   "source": [
    "owner = User.objects.filter(groups__name='Customers')[0]\n",
    "assettype = PropertyAssetType.objects.filter(label='Villa')[0]"
   ]
  },
  {
   "cell_type": "code",
   "execution_count": 4,
   "id": "0cccf4f8",
   "metadata": {},
   "outputs": [],
   "source": [
    "pagedata = {\n",
    "    'title': 'Villa en bord de mer', \n",
    "    'slug': 'cavalaire-villa-bord-de-mer',\n",
    "    'asset_owner': owner, \n",
    "    'address_street': 'Cavalaire', \n",
    "    'address_zip': '83987', \n",
    "    'address_city': 'Cavalaire',\n",
    "    'asset_surface': 253, \n",
    "    'asset_type': assettype}"
   ]
  },
  {
   "cell_type": "code",
   "execution_count": 5,
   "id": "6da5451c",
   "metadata": {},
   "outputs": [
    {
     "data": {
      "text/plain": [
       "{'title': 'Villa en bord de mer',\n",
       " 'slug': 'cavalaire-villa-bord-de-mer',\n",
       " 'asset_owner': <User: gorwell>,\n",
       " 'address_street': 'Cavalaire',\n",
       " 'address_zip': '83987',\n",
       " 'address_city': 'Cavalaire',\n",
       " 'asset_surface': 253,\n",
       " 'asset_type': <PropertyAssetType: Villa>}"
      ]
     },
     "execution_count": 5,
     "metadata": {},
     "output_type": "execute_result"
    }
   ],
   "source": [
    "pagedata\n"
   ]
  },
  {
   "cell_type": "code",
   "execution_count": 6,
   "id": "52427830",
   "metadata": {},
   "outputs": [
    {
     "ename": "IndexError",
     "evalue": "list index out of range",
     "output_type": "error",
     "traceback": [
      "\u001b[0;31m---------------------------------------------------------------------------\u001b[0m",
      "\u001b[0;31mIndexError\u001b[0m                                Traceback (most recent call last)",
      "\u001b[0;32m/tmp/ipykernel_995/3443285654.py\u001b[0m in \u001b[0;36m<module>\u001b[0;34m\u001b[0m\n\u001b[0;32m----> 1\u001b[0;31m \u001b[0mparent\u001b[0m \u001b[0;34m=\u001b[0m \u001b[0mPropertyAssetIndexPage\u001b[0m\u001b[0;34m.\u001b[0m\u001b[0mobjects\u001b[0m\u001b[0;34m.\u001b[0m\u001b[0mall\u001b[0m\u001b[0;34m(\u001b[0m\u001b[0;34m)\u001b[0m\u001b[0;34m[\u001b[0m\u001b[0;36m0\u001b[0m\u001b[0;34m]\u001b[0m\u001b[0;34m\u001b[0m\u001b[0;34m\u001b[0m\u001b[0m\n\u001b[0m\u001b[1;32m      2\u001b[0m \u001b[0mparent\u001b[0m\u001b[0;34m\u001b[0m\u001b[0;34m\u001b[0m\u001b[0m\n",
      "\u001b[0;32m~/.local/share/virtualenvs/wagtail-realestate-88ipSMho/lib/python3.8/site-packages/django/db/models/query.py\u001b[0m in \u001b[0;36m__getitem__\u001b[0;34m(self, k)\u001b[0m\n\u001b[1;32m    323\u001b[0m         \u001b[0mqs\u001b[0m\u001b[0;34m.\u001b[0m\u001b[0mquery\u001b[0m\u001b[0;34m.\u001b[0m\u001b[0mset_limits\u001b[0m\u001b[0;34m(\u001b[0m\u001b[0mk\u001b[0m\u001b[0;34m,\u001b[0m \u001b[0mk\u001b[0m \u001b[0;34m+\u001b[0m \u001b[0;36m1\u001b[0m\u001b[0;34m)\u001b[0m\u001b[0;34m\u001b[0m\u001b[0;34m\u001b[0m\u001b[0m\n\u001b[1;32m    324\u001b[0m         \u001b[0mqs\u001b[0m\u001b[0;34m.\u001b[0m\u001b[0m_fetch_all\u001b[0m\u001b[0;34m(\u001b[0m\u001b[0;34m)\u001b[0m\u001b[0;34m\u001b[0m\u001b[0;34m\u001b[0m\u001b[0m\n\u001b[0;32m--> 325\u001b[0;31m         \u001b[0;32mreturn\u001b[0m \u001b[0mqs\u001b[0m\u001b[0;34m.\u001b[0m\u001b[0m_result_cache\u001b[0m\u001b[0;34m[\u001b[0m\u001b[0;36m0\u001b[0m\u001b[0;34m]\u001b[0m\u001b[0;34m\u001b[0m\u001b[0;34m\u001b[0m\u001b[0m\n\u001b[0m\u001b[1;32m    326\u001b[0m \u001b[0;34m\u001b[0m\u001b[0m\n\u001b[1;32m    327\u001b[0m     \u001b[0;32mdef\u001b[0m \u001b[0m__class_getitem__\u001b[0m\u001b[0;34m(\u001b[0m\u001b[0mcls\u001b[0m\u001b[0;34m,\u001b[0m \u001b[0;34m*\u001b[0m\u001b[0margs\u001b[0m\u001b[0;34m,\u001b[0m \u001b[0;34m**\u001b[0m\u001b[0mkwargs\u001b[0m\u001b[0;34m)\u001b[0m\u001b[0;34m:\u001b[0m\u001b[0;34m\u001b[0m\u001b[0;34m\u001b[0m\u001b[0m\n",
      "\u001b[0;31mIndexError\u001b[0m: list index out of range"
     ]
    }
   ],
   "source": [
    "parent = PropertyAssetIndexPage.objects.all()[0]\n",
    "parent"
   ]
  },
  {
   "cell_type": "code",
   "execution_count": null,
   "id": "0d13e3b1",
   "metadata": {},
   "outputs": [],
   "source": [
    "pagedata['depth'] = 4\n",
    "pagedata['path'] = 'cavalaire-villa-vue-mer'\n",
    "page = PropertyAssetPage(**pagedata)\n",
    "# parent.add_child(instance=page)\n",
    "page.save()"
   ]
  },
  {
   "cell_type": "code",
   "execution_count": null,
   "id": "a40fd221",
   "metadata": {},
   "outputs": [],
   "source": [
    "from realestate.models import PropertyAsset\n",
    "\n",
    "def asset_create():\n",
    "    home = Page.objects.filter(title='Home')[0]\n",
    "\n",
    "    page = PropertyAssetPage(\n",
    "            title=\"My Agency\",\n",
    "            agency_name=\"My Agency\",\n",
    "            depth=4,\n",
    "            path=\"/agency\",\n",
    "            address_street='56 rue de la poste',\n",
    "            address_city='La Garde',\n",
    "            address_zip='83500',\n",
    "            address_country='France',\n",
    "     )\n",
    "    home.add_child(instance=page)\n",
    "    # page.save()"
   ]
  },
  {
   "cell_type": "code",
   "execution_count": null,
   "id": "774e0bac",
   "metadata": {},
   "outputs": [],
   "source": [
    "def agency_delete():\n",
    "    page = Page.objects.filter(title=\"My Agency\")[0]\n",
    "    page.delete()"
   ]
  },
  {
   "cell_type": "code",
   "execution_count": null,
   "id": "7446ba75",
   "metadata": {
    "scrolled": true
   },
   "outputs": [],
   "source": [
    "# agency_delete()"
   ]
  },
  {
   "cell_type": "code",
   "execution_count": null,
   "id": "69ad1cee",
   "metadata": {},
   "outputs": [],
   "source": [
    "Page.objects.all()"
   ]
  },
  {
   "cell_type": "code",
   "execution_count": null,
   "id": "24c999fd",
   "metadata": {},
   "outputs": [],
   "source": [
    "# agency_create()"
   ]
  }
 ],
 "metadata": {
  "kernelspec": {
   "display_name": "Django Shell-Plus",
   "language": "python",
   "name": "django_extensions"
  },
  "language_info": {
   "codemirror_mode": {
    "name": "ipython",
    "version": 3
   },
   "file_extension": ".py",
   "mimetype": "text/x-python",
   "name": "python",
   "nbconvert_exporter": "python",
   "pygments_lexer": "ipython3",
   "version": "3.8.10"
  }
 },
 "nbformat": 4,
 "nbformat_minor": 5
}
