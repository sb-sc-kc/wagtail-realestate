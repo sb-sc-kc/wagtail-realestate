{
 "cells": [
  {
   "cell_type": "code",
   "execution_count": 100,
   "id": "15c4afe3",
   "metadata": {},
   "outputs": [],
   "source": [
    "import os\n",
    "os.environ['DJANGO_ALLOW_ASYNC_UNSAFE'] = 'True'\n",
    "from wagtail.admin.auth import get_user_model\n",
    "User = get_user_model()"
   ]
  },
  {
   "cell_type": "code",
   "execution_count": 101,
   "id": "b1610c2e",
   "metadata": {},
   "outputs": [],
   "source": [
    "from wagtail.core.models import Page\n",
    "from realestate.models import PropertyAssetIndexPage, PropertyAssetPage, PropertyAssetType\n",
    "\n",
    "def create_assets_page():\n",
    "    home = Page.objects.filter(title='Home')[0]\n",
    "    pagedata = {\n",
    "        'path': 'assets',\n",
    "        'depth': 4, \n",
    "        'title': 'Assets', \n",
    "        'slug': 'assets'\n",
    "    }\n",
    "    page = PropertyAssetIndexPage(**pagedata)\n",
    "    home.add_child(instance=page)"
   ]
  },
  {
   "cell_type": "code",
   "execution_count": 102,
   "id": "9b7045b2",
   "metadata": {},
   "outputs": [],
   "source": [
    "owner = User.objects.filter(groups__name='Customers')[0]\n",
    "assettype = PropertyAssetType.objects.filter(label='Villa')[0]"
   ]
  },
  {
   "cell_type": "code",
   "execution_count": 103,
   "id": "0cccf4f8",
   "metadata": {},
   "outputs": [],
   "source": [
    "pagedata = {\n",
    "    'title': 'Villa en bord de mer', \n",
    "    'slug': 'cavalaire-villa-bord-de-mer',\n",
    "    'asset_owner': owner, \n",
    "    'address_street': 'Cavalaire', \n",
    "    'address_zip': '83987', \n",
    "    'address_city': 'Cavalaire',\n",
    "    'asset_surface': 253, \n",
    "    'asset_type': assettype}"
   ]
  },
  {
   "cell_type": "code",
   "execution_count": 104,
   "id": "6da5451c",
   "metadata": {},
   "outputs": [
    {
     "data": {
      "text/plain": [
       "{'title': 'Villa en bord de mer',\n",
       " 'slug': 'cavalaire-villa-bord-de-mer',\n",
       " 'asset_owner': <User: gorwell>,\n",
       " 'address_street': 'Cavalaire',\n",
       " 'address_zip': '83987',\n",
       " 'address_city': 'Cavalaire',\n",
       " 'asset_surface': 253,\n",
       " 'asset_type': <PropertyAssetType: Villa>}"
      ]
     },
     "execution_count": 104,
     "metadata": {},
     "output_type": "execute_result"
    }
   ],
   "source": [
    "pagedata\n"
   ]
  },
  {
   "cell_type": "code",
   "execution_count": 105,
   "id": "52427830",
   "metadata": {},
   "outputs": [
    {
     "data": {
      "text/plain": [
       "<PropertyAssetIndexPage: Assets>"
      ]
     },
     "execution_count": 105,
     "metadata": {},
     "output_type": "execute_result"
    }
   ],
   "source": [
    "parent = PropertyAssetIndexPage.objects.all()[0]\n",
    "parent"
   ]
  },
  {
   "cell_type": "code",
   "execution_count": 106,
   "id": "0d13e3b1",
   "metadata": {},
   "outputs": [
    {
     "ename": "DoesNotExist",
     "evalue": "Page matching query does not exist.",
     "output_type": "error",
     "traceback": [
      "\u001b[0;31m---------------------------------------------------------------------------\u001b[0m",
      "\u001b[0;31mDoesNotExist\u001b[0m                              Traceback (most recent call last)",
      "\u001b[0;32m/tmp/ipykernel_57434/4187351250.py\u001b[0m in \u001b[0;36m<module>\u001b[0;34m\u001b[0m\n\u001b[1;32m      3\u001b[0m \u001b[0mpage\u001b[0m \u001b[0;34m=\u001b[0m \u001b[0mPropertyAssetPage\u001b[0m\u001b[0;34m(\u001b[0m\u001b[0;34m**\u001b[0m\u001b[0mpagedata\u001b[0m\u001b[0;34m)\u001b[0m\u001b[0;34m\u001b[0m\u001b[0;34m\u001b[0m\u001b[0m\n\u001b[1;32m      4\u001b[0m \u001b[0;31m# parent.add_child(instance=page)\u001b[0m\u001b[0;34m\u001b[0m\u001b[0;34m\u001b[0m\u001b[0;34m\u001b[0m\u001b[0m\n\u001b[0;32m----> 5\u001b[0;31m \u001b[0mpage\u001b[0m\u001b[0;34m.\u001b[0m\u001b[0msave\u001b[0m\u001b[0;34m(\u001b[0m\u001b[0;34m)\u001b[0m\u001b[0;34m\u001b[0m\u001b[0;34m\u001b[0m\u001b[0m\n\u001b[0m",
      "\u001b[0;32m/usr/lib/python3.8/contextlib.py\u001b[0m in \u001b[0;36minner\u001b[0;34m(*args, **kwds)\u001b[0m\n\u001b[1;32m     73\u001b[0m         \u001b[0;32mdef\u001b[0m \u001b[0minner\u001b[0m\u001b[0;34m(\u001b[0m\u001b[0;34m*\u001b[0m\u001b[0margs\u001b[0m\u001b[0;34m,\u001b[0m \u001b[0;34m**\u001b[0m\u001b[0mkwds\u001b[0m\u001b[0;34m)\u001b[0m\u001b[0;34m:\u001b[0m\u001b[0;34m\u001b[0m\u001b[0;34m\u001b[0m\u001b[0m\n\u001b[1;32m     74\u001b[0m             \u001b[0;32mwith\u001b[0m \u001b[0mself\u001b[0m\u001b[0;34m.\u001b[0m\u001b[0m_recreate_cm\u001b[0m\u001b[0;34m(\u001b[0m\u001b[0;34m)\u001b[0m\u001b[0;34m:\u001b[0m\u001b[0;34m\u001b[0m\u001b[0;34m\u001b[0m\u001b[0m\n\u001b[0;32m---> 75\u001b[0;31m                 \u001b[0;32mreturn\u001b[0m \u001b[0mfunc\u001b[0m\u001b[0;34m(\u001b[0m\u001b[0;34m*\u001b[0m\u001b[0margs\u001b[0m\u001b[0;34m,\u001b[0m \u001b[0;34m**\u001b[0m\u001b[0mkwds\u001b[0m\u001b[0;34m)\u001b[0m\u001b[0;34m\u001b[0m\u001b[0;34m\u001b[0m\u001b[0m\n\u001b[0m\u001b[1;32m     76\u001b[0m         \u001b[0;32mreturn\u001b[0m \u001b[0minner\u001b[0m\u001b[0;34m\u001b[0m\u001b[0;34m\u001b[0m\u001b[0m\n\u001b[1;32m     77\u001b[0m \u001b[0;34m\u001b[0m\u001b[0m\n",
      "\u001b[0;32m~/.local/share/virtualenvs/wagtail-realestate--N7LY4tU/lib/python3.8/site-packages/wagtail/core/models.py\u001b[0m in \u001b[0;36msave\u001b[0;34m(self, clean, user, log_action, **kwargs)\u001b[0m\n\u001b[1;32m   1027\u001b[0m         \"\"\"\n\u001b[1;32m   1028\u001b[0m         \u001b[0;32mif\u001b[0m \u001b[0mclean\u001b[0m\u001b[0;34m:\u001b[0m\u001b[0;34m\u001b[0m\u001b[0;34m\u001b[0m\u001b[0m\n\u001b[0;32m-> 1029\u001b[0;31m             \u001b[0mself\u001b[0m\u001b[0;34m.\u001b[0m\u001b[0mfull_clean\u001b[0m\u001b[0;34m(\u001b[0m\u001b[0;34m)\u001b[0m\u001b[0;34m\u001b[0m\u001b[0;34m\u001b[0m\u001b[0m\n\u001b[0m\u001b[1;32m   1030\u001b[0m \u001b[0;34m\u001b[0m\u001b[0m\n\u001b[1;32m   1031\u001b[0m         \u001b[0mupdate_descendant_url_paths\u001b[0m \u001b[0;34m=\u001b[0m \u001b[0;32mFalse\u001b[0m\u001b[0;34m\u001b[0m\u001b[0;34m\u001b[0m\u001b[0m\n",
      "\u001b[0;32m~/.local/share/virtualenvs/wagtail-realestate--N7LY4tU/lib/python3.8/site-packages/wagtail/core/models.py\u001b[0m in \u001b[0;36mfull_clean\u001b[0;34m(self, *args, **kwargs)\u001b[0m\n\u001b[1;32m    991\u001b[0m         \u001b[0;31m# Set the locale\u001b[0m\u001b[0;34m\u001b[0m\u001b[0;34m\u001b[0m\u001b[0;34m\u001b[0m\u001b[0m\n\u001b[1;32m    992\u001b[0m         \u001b[0;32mif\u001b[0m \u001b[0mself\u001b[0m\u001b[0;34m.\u001b[0m\u001b[0mlocale_id\u001b[0m \u001b[0;32mis\u001b[0m \u001b[0;32mNone\u001b[0m\u001b[0;34m:\u001b[0m\u001b[0;34m\u001b[0m\u001b[0;34m\u001b[0m\u001b[0m\n\u001b[0;32m--> 993\u001b[0;31m             \u001b[0mself\u001b[0m\u001b[0;34m.\u001b[0m\u001b[0mlocale\u001b[0m \u001b[0;34m=\u001b[0m \u001b[0mself\u001b[0m\u001b[0;34m.\u001b[0m\u001b[0mget_default_locale\u001b[0m\u001b[0;34m(\u001b[0m\u001b[0;34m)\u001b[0m\u001b[0;34m\u001b[0m\u001b[0;34m\u001b[0m\u001b[0m\n\u001b[0m\u001b[1;32m    994\u001b[0m \u001b[0;34m\u001b[0m\u001b[0m\n\u001b[1;32m    995\u001b[0m         \u001b[0msuper\u001b[0m\u001b[0;34m(\u001b[0m\u001b[0;34m)\u001b[0m\u001b[0;34m.\u001b[0m\u001b[0mfull_clean\u001b[0m\u001b[0;34m(\u001b[0m\u001b[0;34m*\u001b[0m\u001b[0margs\u001b[0m\u001b[0;34m,\u001b[0m \u001b[0;34m**\u001b[0m\u001b[0mkwargs\u001b[0m\u001b[0;34m)\u001b[0m\u001b[0;34m\u001b[0m\u001b[0;34m\u001b[0m\u001b[0m\n",
      "\u001b[0;32m~/.local/share/virtualenvs/wagtail-realestate--N7LY4tU/lib/python3.8/site-packages/wagtail/core/models.py\u001b[0m in \u001b[0;36mget_default_locale\u001b[0;34m(self)\u001b[0m\n\u001b[1;32m    964\u001b[0m         \u001b[0mThis\u001b[0m \u001b[0mwill\u001b[0m \u001b[0mbe\u001b[0m \u001b[0mcalled\u001b[0m \u001b[0mjust\u001b[0m \u001b[0mbefore\u001b[0m \u001b[0mthe\u001b[0m \u001b[0minitial\u001b[0m \u001b[0msave\u001b[0m\u001b[0;34m.\u001b[0m\u001b[0;34m\u001b[0m\u001b[0;34m\u001b[0m\u001b[0m\n\u001b[1;32m    965\u001b[0m         \"\"\"\n\u001b[0;32m--> 966\u001b[0;31m         \u001b[0mparent\u001b[0m \u001b[0;34m=\u001b[0m \u001b[0mself\u001b[0m\u001b[0;34m.\u001b[0m\u001b[0mget_parent\u001b[0m\u001b[0;34m(\u001b[0m\u001b[0;34m)\u001b[0m\u001b[0;34m\u001b[0m\u001b[0;34m\u001b[0m\u001b[0m\n\u001b[0m\u001b[1;32m    967\u001b[0m         \u001b[0;32mif\u001b[0m \u001b[0mparent\u001b[0m \u001b[0;32mis\u001b[0m \u001b[0;32mnot\u001b[0m \u001b[0;32mNone\u001b[0m\u001b[0;34m:\u001b[0m\u001b[0;34m\u001b[0m\u001b[0;34m\u001b[0m\u001b[0m\n\u001b[1;32m    968\u001b[0m             return (\n",
      "\u001b[0;32m~/.local/share/virtualenvs/wagtail-realestate--N7LY4tU/lib/python3.8/site-packages/treebeard/mp_tree.py\u001b[0m in \u001b[0;36mget_parent\u001b[0;34m(self, update)\u001b[0m\n\u001b[1;32m   1142\u001b[0m             \u001b[0;32mpass\u001b[0m\u001b[0;34m\u001b[0m\u001b[0;34m\u001b[0m\u001b[0m\n\u001b[1;32m   1143\u001b[0m         \u001b[0mparentpath\u001b[0m \u001b[0;34m=\u001b[0m \u001b[0mself\u001b[0m\u001b[0;34m.\u001b[0m\u001b[0m_get_basepath\u001b[0m\u001b[0;34m(\u001b[0m\u001b[0mself\u001b[0m\u001b[0;34m.\u001b[0m\u001b[0mpath\u001b[0m\u001b[0;34m,\u001b[0m \u001b[0mdepth\u001b[0m \u001b[0;34m-\u001b[0m \u001b[0;36m1\u001b[0m\u001b[0;34m)\u001b[0m\u001b[0;34m\u001b[0m\u001b[0;34m\u001b[0m\u001b[0m\n\u001b[0;32m-> 1144\u001b[0;31m         self._cached_parent_obj = get_result_class(\n\u001b[0m\u001b[1;32m   1145\u001b[0m             self.__class__).objects.get(path=parentpath)\n\u001b[1;32m   1146\u001b[0m         \u001b[0;32mreturn\u001b[0m \u001b[0mself\u001b[0m\u001b[0;34m.\u001b[0m\u001b[0m_cached_parent_obj\u001b[0m\u001b[0;34m\u001b[0m\u001b[0;34m\u001b[0m\u001b[0m\n",
      "\u001b[0;32m~/.local/share/virtualenvs/wagtail-realestate--N7LY4tU/lib/python3.8/site-packages/django/db/models/manager.py\u001b[0m in \u001b[0;36mmanager_method\u001b[0;34m(self, *args, **kwargs)\u001b[0m\n\u001b[1;32m     83\u001b[0m         \u001b[0;32mdef\u001b[0m \u001b[0mcreate_method\u001b[0m\u001b[0;34m(\u001b[0m\u001b[0mname\u001b[0m\u001b[0;34m,\u001b[0m \u001b[0mmethod\u001b[0m\u001b[0;34m)\u001b[0m\u001b[0;34m:\u001b[0m\u001b[0;34m\u001b[0m\u001b[0;34m\u001b[0m\u001b[0m\n\u001b[1;32m     84\u001b[0m             \u001b[0;32mdef\u001b[0m \u001b[0mmanager_method\u001b[0m\u001b[0;34m(\u001b[0m\u001b[0mself\u001b[0m\u001b[0;34m,\u001b[0m \u001b[0;34m*\u001b[0m\u001b[0margs\u001b[0m\u001b[0;34m,\u001b[0m \u001b[0;34m**\u001b[0m\u001b[0mkwargs\u001b[0m\u001b[0;34m)\u001b[0m\u001b[0;34m:\u001b[0m\u001b[0;34m\u001b[0m\u001b[0;34m\u001b[0m\u001b[0m\n\u001b[0;32m---> 85\u001b[0;31m                 \u001b[0;32mreturn\u001b[0m \u001b[0mgetattr\u001b[0m\u001b[0;34m(\u001b[0m\u001b[0mself\u001b[0m\u001b[0;34m.\u001b[0m\u001b[0mget_queryset\u001b[0m\u001b[0;34m(\u001b[0m\u001b[0;34m)\u001b[0m\u001b[0;34m,\u001b[0m \u001b[0mname\u001b[0m\u001b[0;34m)\u001b[0m\u001b[0;34m(\u001b[0m\u001b[0;34m*\u001b[0m\u001b[0margs\u001b[0m\u001b[0;34m,\u001b[0m \u001b[0;34m**\u001b[0m\u001b[0mkwargs\u001b[0m\u001b[0;34m)\u001b[0m\u001b[0;34m\u001b[0m\u001b[0;34m\u001b[0m\u001b[0m\n\u001b[0m\u001b[1;32m     86\u001b[0m             \u001b[0mmanager_method\u001b[0m\u001b[0;34m.\u001b[0m\u001b[0m__name__\u001b[0m \u001b[0;34m=\u001b[0m \u001b[0mmethod\u001b[0m\u001b[0;34m.\u001b[0m\u001b[0m__name__\u001b[0m\u001b[0;34m\u001b[0m\u001b[0;34m\u001b[0m\u001b[0m\n\u001b[1;32m     87\u001b[0m             \u001b[0mmanager_method\u001b[0m\u001b[0;34m.\u001b[0m\u001b[0m__doc__\u001b[0m \u001b[0;34m=\u001b[0m \u001b[0mmethod\u001b[0m\u001b[0;34m.\u001b[0m\u001b[0m__doc__\u001b[0m\u001b[0;34m\u001b[0m\u001b[0;34m\u001b[0m\u001b[0m\n",
      "\u001b[0;32m~/.local/share/virtualenvs/wagtail-realestate--N7LY4tU/lib/python3.8/site-packages/django/db/models/query.py\u001b[0m in \u001b[0;36mget\u001b[0;34m(self, *args, **kwargs)\u001b[0m\n\u001b[1;32m    433\u001b[0m             \u001b[0;32mreturn\u001b[0m \u001b[0mclone\u001b[0m\u001b[0;34m.\u001b[0m\u001b[0m_result_cache\u001b[0m\u001b[0;34m[\u001b[0m\u001b[0;36m0\u001b[0m\u001b[0;34m]\u001b[0m\u001b[0;34m\u001b[0m\u001b[0;34m\u001b[0m\u001b[0m\n\u001b[1;32m    434\u001b[0m         \u001b[0;32mif\u001b[0m \u001b[0;32mnot\u001b[0m \u001b[0mnum\u001b[0m\u001b[0;34m:\u001b[0m\u001b[0;34m\u001b[0m\u001b[0;34m\u001b[0m\u001b[0m\n\u001b[0;32m--> 435\u001b[0;31m             raise self.model.DoesNotExist(\n\u001b[0m\u001b[1;32m    436\u001b[0m                 \u001b[0;34m\"%s matching query does not exist.\"\u001b[0m \u001b[0;34m%\u001b[0m\u001b[0;34m\u001b[0m\u001b[0;34m\u001b[0m\u001b[0m\n\u001b[1;32m    437\u001b[0m                 \u001b[0mself\u001b[0m\u001b[0;34m.\u001b[0m\u001b[0mmodel\u001b[0m\u001b[0;34m.\u001b[0m\u001b[0m_meta\u001b[0m\u001b[0;34m.\u001b[0m\u001b[0mobject_name\u001b[0m\u001b[0;34m\u001b[0m\u001b[0;34m\u001b[0m\u001b[0m\n",
      "\u001b[0;31mDoesNotExist\u001b[0m: Page matching query does not exist."
     ]
    }
   ],
   "source": [
    "pagedata['depth'] = 4\n",
    "pagedata['path'] = 'cavalaire-villa-vue-mer'\n",
    "page = PropertyAssetPage(**pagedata)\n",
    "# parent.add_child(instance=page)\n",
    "page.save()"
   ]
  },
  {
   "cell_type": "code",
   "execution_count": null,
   "id": "a40fd221",
   "metadata": {},
   "outputs": [],
   "source": [
    "from realestate.models import PropertyAsset\n",
    "\n",
    "def asset_create():\n",
    "    home = Page.objects.filter(title='Home')[0]\n",
    "\n",
    "    page = PropertyAssetPage(\n",
    "            title=\"My Agency\",\n",
    "            agency_name=\"My Agency\",\n",
    "            depth=4,\n",
    "            path=\"/agency\",\n",
    "            address_street='56 rue de la poste',\n",
    "            address_city='La Garde',\n",
    "            address_zip='83500',\n",
    "            address_country='France',\n",
    "     )\n",
    "    home.add_child(instance=page)\n",
    "    # page.save()"
   ]
  },
  {
   "cell_type": "code",
   "execution_count": null,
   "id": "774e0bac",
   "metadata": {},
   "outputs": [],
   "source": [
    "def agency_delete():\n",
    "    page = Page.objects.filter(title=\"My Agency\")[0]\n",
    "    page.delete()"
   ]
  },
  {
   "cell_type": "code",
   "execution_count": null,
   "id": "7446ba75",
   "metadata": {
    "scrolled": true
   },
   "outputs": [],
   "source": [
    "# agency_delete()"
   ]
  },
  {
   "cell_type": "code",
   "execution_count": null,
   "id": "69ad1cee",
   "metadata": {},
   "outputs": [],
   "source": [
    "Page.objects.all()"
   ]
  },
  {
   "cell_type": "code",
   "execution_count": null,
   "id": "24c999fd",
   "metadata": {},
   "outputs": [],
   "source": [
    "# agency_create()"
   ]
  }
 ],
 "metadata": {
  "kernelspec": {
   "display_name": "Django Shell-Plus",
   "language": "python",
   "name": "django_extensions"
  },
  "language_info": {
   "codemirror_mode": {
    "name": "ipython",
    "version": 3
   },
   "file_extension": ".py",
   "mimetype": "text/x-python",
   "name": "python",
   "nbconvert_exporter": "python",
   "pygments_lexer": "ipython3",
   "version": "3.8.10"
  }
 },
 "nbformat": 4,
 "nbformat_minor": 5
}
