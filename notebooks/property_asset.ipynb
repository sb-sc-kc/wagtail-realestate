{
 "cells": [
  {
   "cell_type": "code",
   "execution_count": 1,
   "id": "d947c3c4",
   "metadata": {},
   "outputs": [],
   "source": [
    "import os\n",
    "os.environ['DJANGO_ALLOW_ASYNC_UNSAFE'] = 'True'\n",
    "from wagtail.admin.auth import get_user_model\n",
    "User = get_user_model()"
   ]
  },
  {
   "cell_type": "code",
   "execution_count": 2,
   "id": "5860e934",
   "metadata": {},
   "outputs": [],
   "source": [
    "group = Group.objects.filter(name='Customers')[0]\n",
    "group.get_deferred_fields()\n",
    "user = User.objects.filter(username='gorwell')[0]"
   ]
  },
  {
   "cell_type": "code",
   "execution_count": 6,
   "id": "0d3aea08",
   "metadata": {},
   "outputs": [],
   "source": [
    "from realestate.models import PropertyAssetType\n",
    "\n",
    "def asset_types_create():\n",
    "    for label in ('T1', 'T2', 'T3', 'Villa', 'Domaine'):\n",
    "        pat = PropertyAssetType.objects.create(label=label)\n",
    "        pat.save()"
   ]
  },
  {
   "cell_type": "code",
   "execution_count": 7,
   "id": "370a8202",
   "metadata": {
    "scrolled": false
   },
   "outputs": [],
   "source": [
    "def asset_type_list():\n",
    "    for pat in PropertyAssetType.objects.all():\n",
    "        print(pat.pk, pat)"
   ]
  },
  {
   "cell_type": "code",
   "execution_count": 10,
   "id": "8a3c3d15",
   "metadata": {},
   "outputs": [],
   "source": [
    "asset_types_create()\n",
    "assettype = PropertyAssetType.objects.filter(label='Villa')[0]"
   ]
  },
  {
   "cell_type": "code",
   "execution_count": 11,
   "id": "009e3929",
   "metadata": {},
   "outputs": [
    {
     "data": {
      "text/plain": [
       "<PropertyAssetType: Villa>"
      ]
     },
     "execution_count": 11,
     "metadata": {},
     "output_type": "execute_result"
    }
   ],
   "source": [
    "assettype"
   ]
  },
  {
   "cell_type": "code",
   "execution_count": 6,
   "id": "4bea7b08",
   "metadata": {},
   "outputs": [],
   "source": [
    "assetdata = {'path': '/assets',\n",
    "             'depth': 1,\n",
    "             'title': 'Property Assets',\n",
    "             'slug': 'assets',\n",
    "             'asset_owner': user,\n",
    "             'address_street': '3 rue de la retirada',\n",
    "             'address_zip': '83456',\n",
    "             'address_city': 'Cavalaire',\n",
    "             'asset_surface': 255,\n",
    "             'asset_type': assettype}\n"
   ]
  },
  {
   "cell_type": "code",
   "execution_count": 7,
   "id": "ce7c6d58",
   "metadata": {},
   "outputs": [],
   "source": [
    "from realestate.models import PropertyAssetIndexPage\n",
    "page = PropertyAssetPage.objects.create(**assetdata)"
   ]
  },
  {
   "cell_type": "code",
   "execution_count": null,
   "id": "5111b731",
   "metadata": {},
   "outputs": [],
   "source": []
  }
 ],
 "metadata": {
  "kernelspec": {
   "display_name": "Django Shell-Plus",
   "language": "python",
   "name": "django_extensions"
  },
  "language_info": {
   "codemirror_mode": {
    "name": "ipython",
    "version": 3
   },
   "file_extension": ".py",
   "mimetype": "text/x-python",
   "name": "python",
   "nbconvert_exporter": "python",
   "pygments_lexer": "ipython3",
   "version": "3.8.10"
  }
 },
 "nbformat": 4,
 "nbformat_minor": 5
}
