{
 "cells": [
  {
   "cell_type": "code",
   "execution_count": null,
   "id": "d947c3c4",
   "metadata": {},
   "outputs": [],
   "source": [
    "import os\n",
    "os.environ['DJANGO_ALLOW_ASYNC_UNSAFE'] = 'True'\n",
    "from wagtail.admin.auth import get_user_model\n",
    "User = get_user_model()"
   ]
  },
  {
   "cell_type": "code",
   "execution_count": null,
   "id": "5860e934",
   "metadata": {},
   "outputs": [],
   "source": [
    "group = Group.objects.filter(name='Customers')[0]\n",
    "group.get_deferred_fields()\n",
    "user = User.objects.filter(username='gorwell')[0]"
   ]
  },
  {
   "cell_type": "code",
   "execution_count": null,
   "id": "0d3aea08",
   "metadata": {},
   "outputs": [],
   "source": [
    "from realestate.models import PropertyAssetType\n",
    "\n",
    "def asset_types_create():\n",
    "    for id, label in enumerate(('T1', 'T2', 'T3', 'Villa', 'Domaine')):\n",
    "        print(id, label)\n",
    "        pat = PropertyAssetType.objects.create(id=id, label=label)\n",
    "        pat.save()"
   ]
  },
  {
   "cell_type": "code",
   "execution_count": null,
   "id": "29f6b643",
   "metadata": {},
   "outputs": [],
   "source": [
    "def asset_types_delete():\n",
    "    for at in PropertyAssetType.objects.all():\n",
    "        at.delete()"
   ]
  },
  {
   "cell_type": "code",
   "execution_count": null,
   "id": "370a8202",
   "metadata": {
    "scrolled": false
   },
   "outputs": [],
   "source": [
    "def asset_type_list():\n",
    "    for pat in PropertyAssetType.objects.all():\n",
    "        print(pat.pk, pat)"
   ]
  },
  {
   "cell_type": "code",
   "execution_count": null,
   "id": "8a3c3d15",
   "metadata": {},
   "outputs": [],
   "source": [
    "asset_types_create()"
   ]
  },
  {
   "cell_type": "code",
   "execution_count": null,
   "id": "64f36b28",
   "metadata": {
    "scrolled": true
   },
   "outputs": [],
   "source": [
    "for at in PropertyAssetType.objects.all():\n",
    "    print('{id:d}, {label:s}'.format(id=at.id, label=at.label))"
   ]
  }
 ],
 "metadata": {
  "kernelspec": {
   "display_name": "Django Shell-Plus",
   "language": "python",
   "name": "django_extensions"
  },
  "language_info": {
   "codemirror_mode": {
    "name": "ipython",
    "version": 3
   },
   "file_extension": ".py",
   "mimetype": "text/x-python",
   "name": "python",
   "nbconvert_exporter": "python",
   "pygments_lexer": "ipython3",
   "version": "3.8.10"
  }
 },
 "nbformat": 4,
 "nbformat_minor": 5
}
