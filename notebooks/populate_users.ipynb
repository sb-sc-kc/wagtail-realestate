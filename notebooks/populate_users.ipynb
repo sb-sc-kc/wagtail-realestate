{
 "cells": [
  {
   "cell_type": "code",
   "execution_count": 1,
   "id": "8bd6166e",
   "metadata": {},
   "outputs": [],
   "source": [
    "import os\n",
    "os.environ['DJANGO_ALLOW_ASYNC_UNSAFE'] = 'True'\n",
    "from wagtail.admin.auth import get_user_model\n",
    "User = get_user_model()"
   ]
  },
  {
   "cell_type": "code",
   "execution_count": 7,
   "id": "aaa07e3b",
   "metadata": {},
   "outputs": [],
   "source": [
    "import yaml\n",
    "\n",
    "# from wagtail.\n",
    "from django.contrib.auth.models import Group"
   ]
  },
  {
   "cell_type": "code",
   "execution_count": 5,
   "id": "a62bba40",
   "metadata": {},
   "outputs": [],
   "source": [
    "group = Group(name='Customers')\n",
    "group.save()"
   ]
  },
  {
   "cell_type": "code",
   "execution_count": 2,
   "id": "d081bd65",
   "metadata": {},
   "outputs": [],
   "source": [
    "USERS_YAML = \"\"\"\n",
    "-\n",
    "    user:\n",
    "        username: admin\n",
    "        email: admin@email.io\n",
    "        first_name: Amin\n",
    "        last_name: L'admin\n",
    "        password: admin\n",
    "    role: admin\n",
    "-\n",
    "    user:\n",
    "        username: pduval\n",
    "        email: pduval@email.io\n",
    "        first_name: Pierre\n",
    "        last_name: Duval\n",
    "        password: pduval\n",
    "    role: Editors\n",
    "-\n",
    "    user:\n",
    "        username: jprevert\n",
    "        email: jprevert@email.io\n",
    "        first_name: Jacques\n",
    "        last_name: Prévert\n",
    "        password: jprevert\n",
    "    role: Editors\n",
    "-\n",
    "    user:\n",
    "        username: rdurand\n",
    "        email: rdurand@email.io\n",
    "        first_name: Robert\n",
    "        last_name: Durand\n",
    "        password: pduval\n",
    "    role: Moderators\n",
    "-\n",
    "    user:\n",
    "        username: jconrad\n",
    "        email: jconrad@email.io\n",
    "        first_name: Joseph\n",
    "        last_name: Conrad\n",
    "        password: jconrad\n",
    "    role: Moderators\n",
    "-\n",
    "    user:\n",
    "        username: gorwell\n",
    "        email: gorwelld@email.io\n",
    "        first_name: George\n",
    "        last_name: Orwell\n",
    "        password: gorwell\n",
    "    role: Customers\n",
    "\"\"\"\n"
   ]
  },
  {
   "cell_type": "code",
   "execution_count": 3,
   "id": "b66ed29a",
   "metadata": {},
   "outputs": [],
   "source": [
    "usersdata = yaml.safe_load(USERS_YAML)\n",
    "\n",
    "for data in usersdata:\n",
    "    role = data['role']\n",
    "    if role == 'admin':\n",
    "        print('admin')\n",
    "    else:\n",
    "        try:\n",
    "            group = Group.objects.filter(name=role)[0]\n",
    "            print('role: group:' + str(group))\n",
    "            # print('type:' + str(type(group)))\n",
    "        except IndexError:\n",
    "            print('group {:s} not found'.format(role))\n",
    "            print('group creating {:s}...'.format(role))\n",
    "            group = Group(name=role)\n",
    "            group.save()\n",
    "            \n"
   ]
  },
  {
   "cell_type": "code",
   "execution_count": null,
   "id": "e92fd869",
   "metadata": {},
   "outputs": [],
   "source": [
    "def delete_users(usersdata):\n",
    "    usernames = [u['user']['username'] for u in usersdata]\n",
    "    for username in usernames:\n",
    "        q = User.objects.filter(username=username)\n",
    "        if len(q) > 0:\n",
    "            print('{:s} deleting...'.format(username))\n",
    "            q[0].delete()\n",
    "        else:\n",
    "            print('{:s} not found '.format(username))"
   ]
  },
  {
   "cell_type": "code",
   "execution_count": null,
   "id": "31428ee9",
   "metadata": {},
   "outputs": [],
   "source": [
    "def list_users():\n",
    "    print(get_user_model().objects.all())"
   ]
  },
  {
   "cell_type": "code",
   "execution_count": null,
   "id": "486cb31c",
   "metadata": {},
   "outputs": [],
   "source": [
    "def populate_users(usersdata, delete=False):\n",
    "    userclass = get_user_model()\n",
    "\n",
    "    for data in usersdata:\n",
    "        role = data['role']\n",
    "        userdata = data['user']\n",
    "        username = userdata['username']\n",
    "        q = userclass.objects.filter(username=username)\n",
    "        if len(q) > 0:\n",
    "            # remove any user with that name\n",
    "            if delete:\n",
    "                try:\n",
    "                    q[0].delete()\n",
    "                except IndexError:\n",
    "                    pass\n",
    "\n",
    "        if role == 'admin':\n",
    "            user = userclass.objects.create_superuser(**userdata)\n",
    "            user.save()\n",
    "        else:\n",
    "            group = None\n",
    "            try:\n",
    "                group = Group.objects.filter(name=role)[0]\n",
    "            except IndexError:\n",
    "                print('group {:s} not found creating...'.format(role))\n",
    "                group = Group.objects.create(name=role)\n",
    "\n",
    "            user = userclass.objects.create_user(**userdata)\n",
    "            if group:\n",
    "                user.groups.add(group)\n",
    "            user.save()\n"
   ]
  },
  {
   "cell_type": "code",
   "execution_count": null,
   "id": "5f51fa5b",
   "metadata": {},
   "outputs": [],
   "source": [
    "list_users()\n",
    "print(Group.objects.all())"
   ]
  },
  {
   "cell_type": "code",
   "execution_count": null,
   "id": "fd45716b",
   "metadata": {},
   "outputs": [],
   "source": [
    "User.objects.all()"
   ]
  },
  {
   "cell_type": "code",
   "execution_count": null,
   "id": "522c10f4",
   "metadata": {
    "scrolled": false
   },
   "outputs": [],
   "source": [
    "# delete_users(usersdata)"
   ]
  },
  {
   "cell_type": "code",
   "execution_count": null,
   "id": "17bd8816",
   "metadata": {},
   "outputs": [],
   "source": [
    "populate_users(usersdata)"
   ]
  },
  {
   "cell_type": "code",
   "execution_count": null,
   "id": "8daffd28",
   "metadata": {},
   "outputs": [],
   "source": [
    "list_users()"
   ]
  }
 ],
 "metadata": {
  "kernelspec": {
   "display_name": "Django Shell-Plus",
   "language": "python",
   "name": "django_extensions"
  },
  "language_info": {
   "codemirror_mode": {
    "name": "ipython",
    "version": 3
   },
   "file_extension": ".py",
   "mimetype": "text/x-python",
   "name": "python",
   "nbconvert_exporter": "python",
   "pygments_lexer": "ipython3",
   "version": "3.8.10"
  }
 },
 "nbformat": 4,
 "nbformat_minor": 5
}
