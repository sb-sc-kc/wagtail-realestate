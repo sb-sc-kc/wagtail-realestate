{
 "cells": [
  {
   "cell_type": "code",
   "execution_count": null,
   "id": "e8f079c3",
   "metadata": {
    "scrolled": false
   },
   "outputs": [],
   "source": [
    "import os\n",
    "from os import path\n",
    "os.environ['DJANGO_ALLOW_ASYNC_UNSAFE'] = 'True'\n",
    "from wagtail.admin.auth import get_user_model\n",
    "User = get_user_model()"
   ]
  },
  {
   "cell_type": "code",
   "execution_count": null,
   "id": "db944a3e",
   "metadata": {
    "scrolled": true
   },
   "outputs": [],
   "source": [
    "os.environ.get('DJANGO_SETTINGS_MODULE')"
   ]
  },
  {
   "cell_type": "code",
   "execution_count": null,
   "id": "ffc5d867",
   "metadata": {},
   "outputs": [],
   "source": [
    "from wagtail.core.models import Page\n",
    "from realestate.models import PageGalleryImage\n",
    "from wagtail.images.models import Image\n",
    "from django.db.models.fields.files import ImageFieldFile\n",
    "import shutil"
   ]
  },
  {
   "cell_type": "code",
   "execution_count": null,
   "id": "7c3e86d6",
   "metadata": {},
   "outputs": [],
   "source": [
    "os.path.dirname(os.path.dirname(os.path.abspath('__file__')))"
   ]
  },
  {
   "cell_type": "code",
   "execution_count": null,
   "id": "264e9296",
   "metadata": {},
   "outputs": [],
   "source": [
    "module = __import__(os.environ.get('DJANGO_SETTINGS_MODULE'))\n",
    "\n",
    "BASEDIR = module.settings.dev.BASE_DIR\n",
    "MEDIADIR = os.path.join(BASEDIR, 'data/media')\n",
    "IMAGESDIR = os.path.join(MEDIADIR, 'original_images')\n",
    "TESTIMAGESDIR = path.join(BASEDIR, 'data', 'test_images')\n",
    "\n",
    "def load_images(name_filter=''):\n",
    "    os.chdir(IMAGESDIR)\n",
    "    imgs = [myf for myf in os.listdir() if os.path.isfile(myf) and name_filter in myf]\n",
    "    for img in imgs:\n",
    "        print(img)\n",
    "        img = os.path.join('original_images', img)\n",
    "        image = Image(file=img)\n",
    "        image.save()\n",
    "\n",
    "def get_images(filename_contains):\n",
    "    return [img for img in Image.objects.all() if filename_contains in str(img.file)]\n",
    "    # imgs = [img for img in Image.objects.all()]\n",
    "\n",
    "def delete_images():\n",
    "    [img.delete() for img in Image.objects.all()]\n",
    "\n",
    "def delete_gallery_images():\n",
    "    for item in PageGalleryImage.objects.all():\n",
    "        item.delete()\n",
    "\n",
    "def create_gallery_images(page, imgs):\n",
    "    for img in imgs:\n",
    "        mygalimg = PageGalleryImage(page=page, image=img)\n",
    "        mygalimg.save()"
   ]
  },
  {
   "cell_type": "code",
   "execution_count": null,
   "id": "defc6ee5",
   "metadata": {},
   "outputs": [],
   "source": [
    "files = [(path.join(TESTIMAGESDIR, img), path.join(IMAGESDIR, img)) for img in os.listdir(TESTIMAGESDIR)]"
   ]
  },
  {
   "cell_type": "code",
   "execution_count": null,
   "id": "af59d2ce",
   "metadata": {
    "scrolled": true
   },
   "outputs": [],
   "source": [
    "files"
   ]
  },
  {
   "cell_type": "code",
   "execution_count": null,
   "id": "73a50f28",
   "metadata": {},
   "outputs": [],
   "source": [
    "for src, dst in files:\n",
    "    shutil.copy(src, dst)"
   ]
  },
  {
   "cell_type": "code",
   "execution_count": null,
   "id": "8ecb3ffb",
   "metadata": {},
   "outputs": [],
   "source": [
    "import shutil"
   ]
  },
  {
   "cell_type": "code",
   "execution_count": null,
   "id": "f3ff8c36",
   "metadata": {},
   "outputs": [],
   "source": [
    "os.chdir(IMAGESDIR)"
   ]
  },
  {
   "cell_type": "code",
   "execution_count": null,
   "id": "cd61eacc",
   "metadata": {},
   "outputs": [],
   "source": [
    "os.listdir(IMAGESDIR)"
   ]
  },
  {
   "cell_type": "code",
   "execution_count": null,
   "id": "488129a8",
   "metadata": {},
   "outputs": [],
   "source": [
    "myfiles = os.listdir(TESTIMAGESDIR)\n",
    "for myfile in myfiles:\n",
    "    # print(path.join(TESTIMAGESDIR, myfile))\n",
    "    # print(path.join(IMAGESDIR, myfile))\n",
    "    src = path.join(TESTIMAGESDIR, myfile)\n",
    "    dst = path.join(IMAGESDIR, myfile)\n",
    "    shutil.copy(src, dst)"
   ]
  },
  {
   "cell_type": "code",
   "execution_count": null,
   "id": "9dae5d0f",
   "metadata": {},
   "outputs": [],
   "source": [
    "IMAGESDIR"
   ]
  },
  {
   "cell_type": "code",
   "execution_count": null,
   "id": "b95a6b3f",
   "metadata": {
    "scrolled": true
   },
   "outputs": [],
   "source": [
    "path.exists(IMAGESDIR)"
   ]
  },
  {
   "cell_type": "code",
   "execution_count": null,
   "id": "fdb4f360",
   "metadata": {},
   "outputs": [],
   "source": [
    "os.listdir(IMAGESDIR)"
   ]
  },
  {
   "cell_type": "code",
   "execution_count": null,
   "id": "92354db6",
   "metadata": {
    "scrolled": true
   },
   "outputs": [],
   "source": [
    "if not path.exists(IMAGESDIR):\n",
    "    os.mkdir(IMAGESDIR)"
   ]
  },
  {
   "cell_type": "code",
   "execution_count": null,
   "id": "1761a0c8",
   "metadata": {},
   "outputs": [],
   "source": [
    "os.listdir(IMAGESDIR)"
   ]
  },
  {
   "cell_type": "code",
   "execution_count": null,
   "id": "7c16adb9",
   "metadata": {
    "scrolled": true
   },
   "outputs": [],
   "source": [
    "path.isdir(IMAGESDIR)"
   ]
  },
  {
   "cell_type": "code",
   "execution_count": null,
   "id": "1155385e",
   "metadata": {},
   "outputs": [],
   "source": [
    "def list_images():\n",
    "    for img in Image.objects.all():\n",
    "        print(img.file)"
   ]
  },
  {
   "cell_type": "code",
   "execution_count": null,
   "id": "5de328e5",
   "metadata": {},
   "outputs": [],
   "source": [
    "os.chdir(MEDIADIR)\n",
    "path.abspath(path.curdir)"
   ]
  },
  {
   "cell_type": "code",
   "execution_count": null,
   "id": "7b0962cf",
   "metadata": {},
   "outputs": [],
   "source": [
    "slugs = [item.slug for item in PropertyAssetPage.objects.all()]"
   ]
  },
  {
   "cell_type": "code",
   "execution_count": null,
   "id": "0ab255db",
   "metadata": {},
   "outputs": [],
   "source": [
    "slugs"
   ]
  },
  {
   "cell_type": "code",
   "execution_count": null,
   "id": "b490b9d1",
   "metadata": {},
   "outputs": [],
   "source": [
    "for item in PropertyAssetPage.objects.all():\n",
    "    print(item.slug)\n",
    "    imgs = get_images(item.slug)\n",
    "    for img in imgs:\n",
    "        page = PageGalleryImage(page=item, image=img)\n",
    "        page.save()"
   ]
  },
  {
   "cell_type": "markdown",
   "id": "2212bb07",
   "metadata": {},
   "source": [
    "## List Assets"
   ]
  },
  {
   "cell_type": "code",
   "execution_count": null,
   "id": "482a24a6",
   "metadata": {
    "scrolled": true
   },
   "outputs": [],
   "source": [
    "[(page.slug, page.path, page.title) for page in PropertyAssetPage.objects.all()]"
   ]
  },
  {
   "cell_type": "markdown",
   "id": "4ede6a08",
   "metadata": {},
   "source": [
    "## List Gallery"
   ]
  },
  {
   "cell_type": "code",
   "execution_count": null,
   "id": "fcbd02af",
   "metadata": {},
   "outputs": [],
   "source": [
    "gal = PageGalleryImage.objects.all()[0]"
   ]
  },
  {
   "cell_type": "code",
   "execution_count": null,
   "id": "6017ef4a",
   "metadata": {},
   "outputs": [],
   "source": [
    "gal.page"
   ]
  },
  {
   "cell_type": "code",
   "execution_count": null,
   "id": "70ab38c6",
   "metadata": {},
   "outputs": [],
   "source": [
    "def list_gallery_images():\n",
    "    [print(gal.page, gal.image.file, gal.page) for gal in PageGalleryImage.objects.all()]"
   ]
  },
  {
   "cell_type": "code",
   "execution_count": null,
   "id": "c84a28ed",
   "metadata": {},
   "outputs": [],
   "source": [
    "list_gallery_images()"
   ]
  },
  {
   "cell_type": "code",
   "execution_count": null,
   "id": "af30da9d",
   "metadata": {},
   "outputs": [],
   "source": [
    "help(Image)"
   ]
  },
  {
   "cell_type": "code",
   "execution_count": null,
   "id": "de8e2197",
   "metadata": {},
   "outputs": [],
   "source": [
    "delete_gallery_images()\n",
    "# create_gallery_images(page, imgs) "
   ]
  },
  {
   "cell_type": "code",
   "execution_count": null,
   "id": "f0e5dab7",
   "metadata": {},
   "outputs": [],
   "source": [
    "for gimg in PageGalleryImage.objects.all():\n",
    "    print(gimg.image.file)"
   ]
  }
 ],
 "metadata": {
  "kernelspec": {
   "display_name": "Django Shell-Plus",
   "language": "python",
   "name": "django_extensions"
  },
  "language_info": {
   "codemirror_mode": {
    "name": "ipython",
    "version": 3
   },
   "file_extension": ".py",
   "mimetype": "text/x-python",
   "name": "python",
   "nbconvert_exporter": "python",
   "pygments_lexer": "ipython3",
   "version": "3.8.10"
  }
 },
 "nbformat": 4,
 "nbformat_minor": 5
}
