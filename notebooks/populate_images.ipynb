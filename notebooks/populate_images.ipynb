{
 "cells": [
  {
   "cell_type": "code",
   "execution_count": null,
   "id": "e8f079c3",
   "metadata": {
    "scrolled": false
   },
   "outputs": [],
   "source": [
    "import os\n",
    "os.environ['DJANGO_ALLOW_ASYNC_UNSAFE'] = 'True'\n",
    "from wagtail.admin.auth import get_user_model\n",
    "User = get_user_model()"
   ]
  },
  {
   "cell_type": "code",
   "execution_count": null,
   "id": "db944a3e",
   "metadata": {
    "scrolled": true
   },
   "outputs": [],
   "source": [
    "os.environ.get('DJANGO_SETTINGS_MODULE')"
   ]
  },
  {
   "cell_type": "code",
   "execution_count": null,
   "id": "ffc5d867",
   "metadata": {},
   "outputs": [],
   "source": [
    "from wagtail.core.models import Page\n",
    "from realestate.models import PageGalleryImage\n",
    "from wagtail.images.models import Image\n",
    "from django.db.models.fields.files import ImageFieldFile"
   ]
  },
  {
   "cell_type": "code",
   "execution_count": null,
   "id": "264e9296",
   "metadata": {},
   "outputs": [],
   "source": [
    "    PRJDIR = os.path.dirname(os.path.dirname(os.path.abspath('__file__')))\n",
    "MEDIADIR = os.path.join(PRJDIR, 'data/media')\n",
    "IMAGESDIR = os.path.join(MEDIADIR, 'original_images')\n",
    "\n",
    "def load_images(name_filter=''):\n",
    "    os.chdir(IMAGESDIR)\n",
    "    imgs = [myf for myf in os.listdir() if os.path.isfile(myf) and name_filter in myf]\n",
    "    for img in imgs:\n",
    "        print(img)\n",
    "        img = os.path.join('original_images', img)\n",
    "        image = Image(file=img)\n",
    "        image.save()\n",
    "\n",
    "def delete_gallery_images():\n",
    "    for item in PageGalleryImage.objects.all():\n",
    "        item.delete()\n",
    "\n",
    "def create_gallery_images(page, imgs):\n",
    "    for img in imgs:\n",
    "        mygalimg = PageGalleryImage(page=page, image=img)\n",
    "        mygalimg.save()\n",
    "\n",
    "def get_file_images(filename_contains):\n",
    "    return [img for img in Image.objects.all() if filename_contains in str(img.file)]\n",
    "    # imgs = [img for img in Image.objects.all()]"
   ]
  },
  {
   "cell_type": "code",
   "execution_count": null,
   "id": "12ccad25",
   "metadata": {},
   "outputs": [],
   "source": [
    "[img.file for img in get_file_images('')]"
   ]
  },
  {
   "cell_type": "code",
   "execution_count": null,
   "id": "59b99e66",
   "metadata": {},
   "outputs": [],
   "source": [
    "load_images()"
   ]
  },
  {
   "cell_type": "code",
   "execution_count": null,
   "id": "7b0962cf",
   "metadata": {},
   "outputs": [],
   "source": [
    "slugs = [item.slug for item in PropertyAssetPage.objects.all()]"
   ]
  },
  {
   "cell_type": "code",
   "execution_count": null,
   "id": "0ab255db",
   "metadata": {},
   "outputs": [],
   "source": [
    "slugs"
   ]
  },
  {
   "cell_type": "code",
   "execution_count": null,
   "id": "b490b9d1",
   "metadata": {},
   "outputs": [],
   "source": [
    "for item in PropertyAssetPage.objects.all():\n",
    "    print(item.slug)\n",
    "    imgs = get_file_images(item.slug)\n",
    "    for img in imgs:\n",
    "        page = PageGalleryImage(page=item, image=img)\n",
    "        page.save()"
   ]
  },
  {
   "cell_type": "markdown",
   "id": "2212bb07",
   "metadata": {},
   "source": [
    "## List Assets"
   ]
  },
  {
   "cell_type": "code",
   "execution_count": null,
   "id": "482a24a6",
   "metadata": {
    "scrolled": true
   },
   "outputs": [],
   "source": [
    "[(page.slug, page.path, page.title) for page in PropertyAssetPage.objects.all()]"
   ]
  },
  {
   "cell_type": "markdown",
   "id": "4ede6a08",
   "metadata": {},
   "source": [
    "## List Gallery"
   ]
  },
  {
   "cell_type": "code",
   "execution_count": null,
   "id": "70ab38c6",
   "metadata": {},
   "outputs": [],
   "source": [
    "[(gal.image.file, gal.page) for gal in PageGalleryImage.objects.all()]"
   ]
  },
  {
   "cell_type": "code",
   "execution_count": null,
   "id": "de8e2197",
   "metadata": {},
   "outputs": [],
   "source": [
    "delete_gallery_images()\n",
    "# create_gallery_images(page, imgs) "
   ]
  }
 ],
 "metadata": {
  "kernelspec": {
   "display_name": "Django Shell-Plus",
   "language": "python",
   "name": "django_extensions"
  },
  "language_info": {
   "codemirror_mode": {
    "name": "ipython",
    "version": 3
   },
   "file_extension": ".py",
   "mimetype": "text/x-python",
   "name": "python",
   "nbconvert_exporter": "python",
   "pygments_lexer": "ipython3",
   "version": "3.8.10"
  }
 },
 "nbformat": 4,
 "nbformat_minor": 5
}
