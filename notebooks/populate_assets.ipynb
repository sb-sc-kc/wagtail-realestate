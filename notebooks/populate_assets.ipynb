{
 "cells": [
  {
   "cell_type": "code",
   "execution_count": 72,
   "id": "15c4afe3",
   "metadata": {},
   "outputs": [],
   "source": [
    "import os\n",
    "os.environ['DJANGO_ALLOW_ASYNC_UNSAFE'] = 'True'\n",
    "from wagtail.admin.auth import get_user_model\n",
    "User = get_user_model()\n",
    "\n",
    "DO_CREATE = False"
   ]
  },
  {
   "cell_type": "code",
   "execution_count": 73,
   "id": "7a3643d2",
   "metadata": {},
   "outputs": [],
   "source": [
    "from wagtail.core.models import Page\n",
    "from realestate.models import PropertyAssetIndexPage, PropertyAssetPage, PropertyAssetType, PageGalleryImage"
   ]
  },
  {
   "cell_type": "code",
   "execution_count": 74,
   "id": "593f4337",
   "metadata": {},
   "outputs": [],
   "source": [
    "from scripts import utils"
   ]
  },
  {
   "cell_type": "code",
   "execution_count": 75,
   "id": "c0b9fab7",
   "metadata": {},
   "outputs": [],
   "source": [
    "ASSET_SLUGS = ['maison-provence-01', 'studio-montagne']"
   ]
  },
  {
   "cell_type": "code",
   "execution_count": 76,
   "id": "b1610c2e",
   "metadata": {},
   "outputs": [],
   "source": [
    "def create_assets_page():\n",
    "    home = Page.objects.filter(title='Home')[0]\n",
    "    pagedata = {\n",
    "        'path': 'assets',\n",
    "        'depth': 4, \n",
    "        'title': 'Assets', \n",
    "        'slug': 'assets'\n",
    "    }\n",
    "    page = PropertyAssetIndexPage(**pagedata)\n",
    "    home.add_child(instance=page)\n",
    "\n",
    "def create_property_asset(page, data):\n",
    "    pass\n",
    "\n",
    "def create_gallery_images():\n",
    "    items = [(item.pk, item.slug) for item in PropertyAssetPage.objects.all()]\n",
    "\n",
    "    for page in PropertyAssetPage.objects.all():\n",
    "        print('slug:' + slug)\n",
    "        for img in utils.get_file_images(page.slug):\n",
    "            print(img.file)\n",
    "            gal = PageGalleryImage(page=page, image=img)\n",
    "            gal.save()"
   ]
  },
  {
   "cell_type": "code",
   "execution_count": 77,
   "id": "cc048e5f",
   "metadata": {},
   "outputs": [],
   "source": [
    "if DO_CREATE:\n",
    "    create_assets_page()"
   ]
  },
  {
   "cell_type": "code",
   "execution_count": 78,
   "id": "9b7045b2",
   "metadata": {
    "scrolled": false
   },
   "outputs": [
    {
     "data": {
      "text/plain": [
       "(<User: gorwell>, <PropertyAssetType: Villa>)"
      ]
     },
     "execution_count": 78,
     "metadata": {},
     "output_type": "execute_result"
    }
   ],
   "source": [
    "owner = User.objects.filter(groups__name='Customers')[0]\n",
    "assettype = PropertyAssetType.objects.filter(label='Villa')[0]\n",
    "owner, assettype"
   ]
  },
  {
   "cell_type": "code",
   "execution_count": 79,
   "id": "0cccf4f8",
   "metadata": {},
   "outputs": [],
   "source": [
    "pagedata = {\n",
    "    'title': 'Villa en provence', \n",
    "    'slug': 'maison-provence-01',\n",
    "    'path': 'maison-provence-01',\n",
    "    'depth': '00010',\n",
    "    'asset_owner': owner, \n",
    "    'address_street': 'Cavalaire', \n",
    "    'address_zip': '83987', \n",
    "    'address_city': 'Cavalaire',\n",
    "    'asset_surface': 253, \n",
    "    'asset_type': assettype}"
   ]
  },
  {
   "cell_type": "code",
   "execution_count": 80,
   "id": "6da5451c",
   "metadata": {
    "scrolled": false
   },
   "outputs": [
    {
     "data": {
      "text/plain": [
       "{'title': 'Villa en provence',\n",
       " 'slug': 'maison-provence-01',\n",
       " 'path': 'maison-provence-01',\n",
       " 'depth': '00010',\n",
       " 'asset_owner': <User: gorwell>,\n",
       " 'address_street': 'Cavalaire',\n",
       " 'address_zip': '83987',\n",
       " 'address_city': 'Cavalaire',\n",
       " 'asset_surface': 253,\n",
       " 'asset_type': <PropertyAssetType: Villa>}"
      ]
     },
     "execution_count": 80,
     "metadata": {},
     "output_type": "execute_result"
    }
   ],
   "source": [
    "pagedata\n"
   ]
  },
  {
   "cell_type": "code",
   "execution_count": 81,
   "id": "0d13e3b1",
   "metadata": {},
   "outputs": [],
   "source": [
    "if DO_CREATE:\n",
    "    parent = PropertyAssetIndexPage.objects.all()[0]\n",
    "    page = PropertyAssetPage(**pagedata)\n",
    "    page.tags.add('Provence')\n",
    "    parent.add_child(instance=page)\n",
    "    page.save()"
   ]
  },
  {
   "cell_type": "code",
   "execution_count": 82,
   "id": "24c999fd",
   "metadata": {},
   "outputs": [],
   "source": [
    "# agency_create()\n",
    "assettype = PropertyAssetType.objects.filter(label='T1')[0]"
   ]
  },
  {
   "cell_type": "code",
   "execution_count": 83,
   "id": "d8d2f1a5",
   "metadata": {},
   "outputs": [],
   "source": [
    "pagedata = {\n",
    "    'title': 'Studio à la montagne', \n",
    "    'slug': 'studio-montagne',\n",
    "    'path': 'studio-montagne',\n",
    "    'asset_owner': owner, \n",
    "    'address_street': '654 chemin qui monte', \n",
    "    'address_zip': '06987', \n",
    "    'address_city': 'Isola',\n",
    "    'asset_surface': 25, \n",
    "    'asset_type': assettype}"
   ]
  },
  {
   "cell_type": "code",
   "execution_count": 84,
   "id": "c8665eba",
   "metadata": {},
   "outputs": [
    {
     "data": {
      "text/plain": [
       "{'title': 'Studio à la montagne',\n",
       " 'slug': 'studio-montagne',\n",
       " 'path': 'studio-montagne',\n",
       " 'asset_owner': <User: gorwell>,\n",
       " 'address_street': '654 chemin qui monte',\n",
       " 'address_zip': '06987',\n",
       " 'address_city': 'Isola',\n",
       " 'asset_surface': 25,\n",
       " 'asset_type': <PropertyAssetType: T1>}"
      ]
     },
     "execution_count": 84,
     "metadata": {},
     "output_type": "execute_result"
    }
   ],
   "source": [
    "pagedata"
   ]
  },
  {
   "cell_type": "code",
   "execution_count": 85,
   "id": "075b4402",
   "metadata": {
    "scrolled": false
   },
   "outputs": [],
   "source": [
    "if DO_CREATE:\n",
    "    parent = PropertyAssetIndexPage.objects.all()[0]\n",
    "    page = PropertyAssetPage(**pagedata)\n",
    "    page.tags.add('Montagne')\n",
    "    parent.add_child(instance=page)\n",
    "    page.save()"
   ]
  },
  {
   "cell_type": "code",
   "execution_count": null,
   "id": "5ee3d82f",
   "metadata": {},
   "outputs": [],
   "source": []
  },
  {
   "cell_type": "code",
   "execution_count": 98,
   "id": "0666d68d",
   "metadata": {},
   "outputs": [],
   "source": [
    "assettype = PropertyAssetType.objects.filter(label='Villa')[0]\n",
    "pagedata = {\n",
    "    'title': 'Villa en provence verte', \n",
    "    'slug': 'maison-provence-02',\n",
    "    'path': 'maison-provence-02',\n",
    "    'depth': '00010',\n",
    "    'asset_owner': owner, \n",
    "    'address_street': '78 rue du puis', \n",
    "    'address_zip': '83951', \n",
    "    'address_city': 'Le Mole',\n",
    "    'asset_surface': 125, \n",
    "    'asset_type': assettype}"
   ]
  },
  {
   "cell_type": "code",
   "execution_count": 96,
   "id": "de5abfd0",
   "metadata": {
    "scrolled": false
   },
   "outputs": [
    {
     "data": {
      "text/plain": [
       "{'title': 'Villa en provence',\n",
       " 'slug': 'maison-provence-02',\n",
       " 'path': 'maison-provence-02',\n",
       " 'depth': '00010',\n",
       " 'asset_owner': <User: gorwell>,\n",
       " 'address_street': '78 rue du puis',\n",
       " 'address_zip': '83951',\n",
       " 'address_city': 'Le Mole',\n",
       " 'asset_surface': 125,\n",
       " 'asset_type': <PropertyAssetType: Villa>}"
      ]
     },
     "execution_count": 96,
     "metadata": {},
     "output_type": "execute_result"
    }
   ],
   "source": [
    "pagedata"
   ]
  },
  {
   "cell_type": "code",
   "execution_count": 99,
   "id": "a7fd606e",
   "metadata": {},
   "outputs": [],
   "source": [
    "if DO_CREATE:\n",
    "    parent = PropertyAssetIndexPage.objects.all()[0]\n",
    "    page = PropertyAssetPage(**pagedata)\n",
    "    page.tags.add('Provence')\n",
    "    parent.add_child(instance=page)\n",
    "    page.save()"
   ]
  },
  {
   "cell_type": "code",
   "execution_count": 105,
   "id": "6edb1eff",
   "metadata": {},
   "outputs": [
    {
     "data": {
      "text/plain": [
       "<PageQuerySet [<PropertyAssetPage: Cavalaire 83987 Villa>, <PropertyAssetPage: Isola 06987 T1>, <PropertyAssetPage: Cavalaire 83987 Villa>, <PropertyAssetPage: Le Mole 83951 T1>]>"
      ]
     },
     "execution_count": 105,
     "metadata": {},
     "output_type": "execute_result"
    }
   ],
   "source": [
    "PropertyAssetPage.objects.all()"
   ]
  },
  {
   "cell_type": "code",
   "execution_count": 113,
   "id": "dce5074b",
   "metadata": {},
   "outputs": [
    {
     "data": {
      "text/plain": [
       "[(6, 'Villa en bord de mer', None),\n",
       " (7, 'Studio à la montagne', <Image: >),\n",
       " (13, 'Villa en provence côte', <Image: >),\n",
       " (14, 'Villa en provence verte', None)]"
      ]
     },
     "execution_count": 113,
     "metadata": {},
     "output_type": "execute_result"
    }
   ],
   "source": [
    "[(item.pk, item.title, item.main_image()) for item in PropertyAssetPage.objects.all()]"
   ]
  },
  {
   "cell_type": "code",
   "execution_count": 111,
   "id": "98a436a9",
   "metadata": {},
   "outputs": [],
   "source": [
    "page = PropertyAssetPage.objects.get(pk=13)\n",
    "page.title = 'Villa en provence côte'\n",
    "page.save()"
   ]
  }
 ],
 "metadata": {
  "kernelspec": {
   "display_name": "Django Shell-Plus",
   "language": "python",
   "name": "django_extensions"
  },
  "language_info": {
   "codemirror_mode": {
    "name": "ipython",
    "version": 3
   },
   "file_extension": ".py",
   "mimetype": "text/x-python",
   "name": "python",
   "nbconvert_exporter": "python",
   "pygments_lexer": "ipython3",
   "version": "3.8.10"
  }
 },
 "nbformat": 4,
 "nbformat_minor": 5
}
