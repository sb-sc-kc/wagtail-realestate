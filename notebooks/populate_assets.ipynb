{
 "cells": [
  {
   "cell_type": "code",
   "execution_count": null,
   "id": "15c4afe3",
   "metadata": {},
   "outputs": [],
   "source": [
    "import os\n",
    "os.environ['DJANGO_ALLOW_ASYNC_UNSAFE'] = 'True'\n",
    "from wagtail.admin.auth import get_user_model\n",
    "User = get_user_model()\n",
    "\n",
    "DO_CREATE = True"
   ]
  },
  {
   "cell_type": "code",
   "execution_count": null,
   "id": "7a3643d2",
   "metadata": {},
   "outputs": [],
   "source": [
    "from wagtail.core.models import Page\n",
    "from realestate.models import PropertyAssetIndexPage, PropertyAssetPage, PropertyAssetType, PageGalleryImage"
   ]
  },
  {
   "cell_type": "code",
   "execution_count": null,
   "id": "593f4337",
   "metadata": {},
   "outputs": [],
   "source": [
    "from scripts import utils"
   ]
  },
  {
   "cell_type": "code",
   "execution_count": null,
   "id": "b1610c2e",
   "metadata": {},
   "outputs": [],
   "source": [
    "def create_assets_page():\n",
    "    home = Page.objects.filter(title='Home')[0]\n",
    "    pages = Page.objects.filter(slug='assets')\n",
    "    if len(pages) > 0:\n",
    "        print('page assets_page already exists, leaving...')\n",
    "        return\n",
    "    pagedata = {\n",
    "        'path': 'assets',\n",
    "        'depth': 4, \n",
    "        'title': 'Assets', \n",
    "        'slug': 'assets'\n",
    "    }\n",
    "    page = PropertyAssetIndexPage(**pagedata)\n",
    "    home.add_child(instance=page)\n",
    "\n",
    "def create_gallery_images():\n",
    "    items = [(item.pk, item.slug) for item in PropertyAssetPage.objects.all()]\n",
    "\n",
    "    for page in PropertyAssetPage.objects.all():\n",
    "        print('slug:' + slug)\n",
    "        for img in utils.get_file_images(page.slug):\n",
    "            print(img.file)\n",
    "            gal = PageGalleryImage(page=page, image=img)\n",
    "            gal.save()"
   ]
  },
  {
   "cell_type": "code",
   "execution_count": null,
   "id": "cc048e5f",
   "metadata": {},
   "outputs": [],
   "source": [
    "if DO_CREATE:\n",
    "    create_assets_page()"
   ]
  },
  {
   "cell_type": "code",
   "execution_count": null,
   "id": "a7fd606e",
   "metadata": {},
   "outputs": [],
   "source": [
    "def create_assets():\n",
    "    owner = User.objects.filter(groups__name='Customers')[0]\n",
    "    assettype = PropertyAssetType.objects.filter(label='Villa')[0]\n",
    "    owner, assettype\n",
    "\n",
    "    pagedata = {\n",
    "        'title': 'Villa en provence', \n",
    "        'slug': 'maison-provence-01',\n",
    "        'path': 'maison-provence-01',\n",
    "        'depth': '00010',\n",
    "        'asset_owner': owner, \n",
    "        'address_street': 'Cavalaire', \n",
    "        'address_zip': '83987', \n",
    "        'address_city': 'Cavalaire',\n",
    "        'asset_surface': 253, \n",
    "        'asset_type': assettype}\n",
    "\n",
    "    parent = PropertyAssetIndexPage.objects.all()[0]\n",
    "    page = PropertyAssetPage(**pagedata)\n",
    "    page.tags.add('Provence')\n",
    "    parent.add_child(instance=page)\n",
    "    page.save()\n",
    "\n",
    "    # agency_create()\n",
    "    assettype = PropertyAssetType.objects.filter(label='T1')[0]\n",
    "\n",
    "    pagedata = {\n",
    "        'title': 'Studio à la montagne', \n",
    "        'slug': 'studio-montagne',\n",
    "        'path': 'studio-montagne',\n",
    "        'asset_owner': owner, \n",
    "        'address_street': '654 chemin qui monte', \n",
    "        'address_zip': '06987', \n",
    "        'address_city': 'Isola',\n",
    "        'asset_surface': 25, \n",
    "        'asset_type': assettype,\n",
    "    }\n",
    "\n",
    "    parent = PropertyAssetIndexPage.objects.all()[0]\n",
    "    page = PropertyAssetPage(**pagedata)\n",
    "    page.tags.add('Montagne')\n",
    "    parent.add_child(instance=page)\n",
    "    page.save()\n",
    "\n",
    "    assettype = PropertyAssetType.objects.filter(label='Villa')[0]\n",
    "    pagedata = {\n",
    "        'title': 'Villa en provence verte', \n",
    "        'slug': 'maison-provence-02',\n",
    "        'path': 'maison-provence-02',\n",
    "        'depth': '00010',\n",
    "        'asset_owner': owner, \n",
    "        'address_street': '78 rue du puis', \n",
    "        'address_zip': '83951', \n",
    "        'address_city': 'Le Mole',\n",
    "        'asset_surface': 125, \n",
    "        'asset_type': assettype\n",
    "    }\n",
    "\n",
    "    parent = PropertyAssetIndexPage.objects.all()[0]\n",
    "    page = PropertyAssetPage(**pagedata)\n",
    "    page.tags.add('Provence')\n",
    "    parent.add_child(instance=page)\n",
    "    page.save()"
   ]
  },
  {
   "cell_type": "code",
   "execution_count": null,
   "id": "01bedc3a",
   "metadata": {},
   "outputs": [],
   "source": [
    "create_assets()"
   ]
  },
  {
   "cell_type": "code",
   "execution_count": null,
   "id": "6edb1eff",
   "metadata": {},
   "outputs": [],
   "source": [
    "PropertyAssetPage.objects.all()"
   ]
  },
  {
   "cell_type": "code",
   "execution_count": null,
   "id": "dce5074b",
   "metadata": {},
   "outputs": [],
   "source": [
    "[(item.pk, item.title, item.main_image()) for item in PropertyAssetPage.objects.all()]"
   ]
  },
  {
   "cell_type": "code",
   "execution_count": null,
   "id": "98a436a9",
   "metadata": {},
   "outputs": [],
   "source": [
    "page = PropertyAssetPage.objects.get(slug='maison-provence-01')\n",
    "page.title = 'Villa en provence côte'\n",
    "page.save()"
   ]
  },
  {
   "cell_type": "code",
   "execution_count": null,
   "id": "205f1412",
   "metadata": {},
   "outputs": [],
   "source": [
    "[(page.pk, page.slug, page.title) for page in PropertyAssetPage.objects.specific().all()]"
   ]
  },
  {
   "cell_type": "code",
   "execution_count": null,
   "id": "f777caad",
   "metadata": {},
   "outputs": [],
   "source": [
    "[page.delete() for page in PropertyAssetPage.objects.specific().all()]"
   ]
  }
 ],
 "metadata": {
  "kernelspec": {
   "display_name": "Django Shell-Plus",
   "language": "python",
   "name": "django_extensions"
  },
  "language_info": {
   "codemirror_mode": {
    "name": "ipython",
    "version": 3
   },
   "file_extension": ".py",
   "mimetype": "text/x-python",
   "name": "python",
   "nbconvert_exporter": "python",
   "pygments_lexer": "ipython3",
   "version": "3.8.10"
  }
 },
 "nbformat": 4,
 "nbformat_minor": 5
}
