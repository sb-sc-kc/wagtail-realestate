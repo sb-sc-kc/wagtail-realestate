{
 "cells": [
  {
   "cell_type": "code",
   "execution_count": 5,
   "id": "e8f079c3",
   "metadata": {},
   "outputs": [],
   "source": [
    "import os\n",
    "os.environ['DJANGO_ALLOW_ASYNC_UNSAFE'] = 'True'\n",
    "from wagtail.admin.auth import get_user_model\n",
    "User = get_user_model()"
   ]
  },
  {
   "cell_type": "code",
   "execution_count": 3,
   "id": "ffc5d867",
   "metadata": {},
   "outputs": [],
   "source": [
    "from wagtail.core.models import Page\n",
    "from realestate.models import AgencyPage"
   ]
  },
  {
   "cell_type": "code",
   "execution_count": 8,
   "id": "7168135f",
   "metadata": {},
   "outputs": [
    {
     "data": {
      "text/plain": [
       "<PageQuerySet [<Page: Root>, <Page: Home>, <Page: My Agencyxx>, <Page: Assets>, <Page: test>, <Page: Rental Offers>]>"
      ]
     },
     "execution_count": 8,
     "metadata": {},
     "output_type": "execute_result"
    }
   ],
   "source": [
    "Page.objects.all()"
   ]
  },
  {
   "cell_type": "code",
   "execution_count": 26,
   "id": "3a5588ed",
   "metadata": {},
   "outputs": [
    {
     "data": {
      "text/plain": [
       "<Page: Assets>"
      ]
     },
     "execution_count": 26,
     "metadata": {},
     "output_type": "execute_result"
    }
   ],
   "source": [
    "q = Page.objects.filter(title='test')\n",
    "# q = Page.objects.filter(pk=11)\n",
    "page = q.first_common_ancestor()\n",
    "page"
   ]
  },
  {
   "cell_type": "code",
   "execution_count": 30,
   "id": "2ab83918",
   "metadata": {
    "scrolled": false
   },
   "outputs": [
    {
     "name": "stdout",
     "output_type": "stream",
     "text": [
      "Help on class BaseCommand in module django.core.management.base:\n",
      "\n",
      "class BaseCommand(builtins.object)\n",
      " |  BaseCommand(stdout=None, stderr=None, no_color=False, force_color=False)\n",
      " |  \n",
      " |  The base class from which all management commands ultimately\n",
      " |  derive.\n",
      " |  \n",
      " |  Use this class if you want access to all of the mechanisms which\n",
      " |  parse the command-line arguments and work out what code to call in\n",
      " |  response; if you don't need to change any of that behavior,\n",
      " |  consider using one of the subclasses defined in this file.\n",
      " |  \n",
      " |  If you are interested in overriding/customizing various aspects of\n",
      " |  the command-parsing and -execution behavior, the normal flow works\n",
      " |  as follows:\n",
      " |  \n",
      " |  1. ``django-admin`` or ``manage.py`` loads the command class\n",
      " |     and calls its ``run_from_argv()`` method.\n",
      " |  \n",
      " |  2. The ``run_from_argv()`` method calls ``create_parser()`` to get\n",
      " |     an ``ArgumentParser`` for the arguments, parses them, performs\n",
      " |     any environment changes requested by options like\n",
      " |     ``pythonpath``, and then calls the ``execute()`` method,\n",
      " |     passing the parsed arguments.\n",
      " |  \n",
      " |  3. The ``execute()`` method attempts to carry out the command by\n",
      " |     calling the ``handle()`` method with the parsed arguments; any\n",
      " |     output produced by ``handle()`` will be printed to standard\n",
      " |     output and, if the command is intended to produce a block of\n",
      " |     SQL statements, will be wrapped in ``BEGIN`` and ``COMMIT``.\n",
      " |  \n",
      " |  4. If ``handle()`` or ``execute()`` raised any exception (e.g.\n",
      " |     ``CommandError``), ``run_from_argv()`` will  instead print an error\n",
      " |     message to ``stderr``.\n",
      " |  \n",
      " |  Thus, the ``handle()`` method is typically the starting point for\n",
      " |  subclasses; many built-in commands and command types either place\n",
      " |  all of their logic in ``handle()``, or perform some additional\n",
      " |  parsing work in ``handle()`` and then delegate from it to more\n",
      " |  specialized methods as needed.\n",
      " |  \n",
      " |  Several attributes affect behavior at various steps along the way:\n",
      " |  \n",
      " |  ``help``\n",
      " |      A short description of the command, which will be printed in\n",
      " |      help messages.\n",
      " |  \n",
      " |  ``output_transaction``\n",
      " |      A boolean indicating whether the command outputs SQL\n",
      " |      statements; if ``True``, the output will automatically be\n",
      " |      wrapped with ``BEGIN;`` and ``COMMIT;``. Default value is\n",
      " |      ``False``.\n",
      " |  \n",
      " |  ``requires_migrations_checks``\n",
      " |      A boolean; if ``True``, the command prints a warning if the set of\n",
      " |      migrations on disk don't match the migrations in the database.\n",
      " |  \n",
      " |  ``requires_system_checks``\n",
      " |      A list or tuple of tags, e.g. [Tags.staticfiles, Tags.models]. System\n",
      " |      checks registered in the chosen tags will be checked for errors prior\n",
      " |      to executing the command. The value '__all__' can be used to specify\n",
      " |      that all system checks should be performed. Default value is '__all__'.\n",
      " |  \n",
      " |      To validate an individual application's models\n",
      " |      rather than all applications' models, call\n",
      " |      ``self.check(app_configs)`` from ``handle()``, where ``app_configs``\n",
      " |      is the list of application's configuration provided by the\n",
      " |      app registry.\n",
      " |  \n",
      " |  ``stealth_options``\n",
      " |      A tuple of any options the command uses which aren't defined by the\n",
      " |      argument parser.\n",
      " |  \n",
      " |  Methods defined here:\n",
      " |  \n",
      " |  __init__(self, stdout=None, stderr=None, no_color=False, force_color=False)\n",
      " |      Initialize self.  See help(type(self)) for accurate signature.\n",
      " |  \n",
      " |  add_arguments(self, parser)\n",
      " |      Entry point for subclassed commands to add custom arguments.\n",
      " |  \n",
      " |  check(self, app_configs=None, tags=None, display_num_errors=False, include_deployment_checks=False, fail_level=40, databases=None)\n",
      " |      Use the system check framework to validate entire Django project.\n",
      " |      Raise CommandError for any serious message (error or critical errors).\n",
      " |      If there are only light messages (like warnings), print them to stderr\n",
      " |      and don't raise an exception.\n",
      " |  \n",
      " |  check_migrations(self)\n",
      " |      Print a warning if the set of migrations on disk don't match the\n",
      " |      migrations in the database.\n",
      " |  \n",
      " |  create_parser(self, prog_name, subcommand, **kwargs)\n",
      " |      Create and return the ``ArgumentParser`` which will be used to\n",
      " |      parse the arguments to this command.\n",
      " |  \n",
      " |  execute(self, *args, **options)\n",
      " |      Try to execute this command, performing system checks if needed (as\n",
      " |      controlled by the ``requires_system_checks`` attribute, except if\n",
      " |      force-skipped).\n",
      " |  \n",
      " |  get_version(self)\n",
      " |      Return the Django version, which should be correct for all built-in\n",
      " |      Django commands. User-supplied commands can override this method to\n",
      " |      return their own version.\n",
      " |  \n",
      " |  handle(self, *args, **options)\n",
      " |      The actual logic of the command. Subclasses must implement\n",
      " |      this method.\n",
      " |  \n",
      " |  print_help(self, prog_name, subcommand)\n",
      " |      Print the help message for this command, derived from\n",
      " |      ``self.usage()``.\n",
      " |  \n",
      " |  run_from_argv(self, argv)\n",
      " |      Set up any environment changes requested (e.g., Python path\n",
      " |      and Django settings), then run this command. If the\n",
      " |      command raises a ``CommandError``, intercept it and print it sensibly\n",
      " |      to stderr. If the ``--traceback`` option is present or the raised\n",
      " |      ``Exception`` is not ``CommandError``, raise it.\n",
      " |  \n",
      " |  ----------------------------------------------------------------------\n",
      " |  Data descriptors defined here:\n",
      " |  \n",
      " |  __dict__\n",
      " |      dictionary for instance variables (if defined)\n",
      " |  \n",
      " |  __weakref__\n",
      " |      list of weak references to the object (if defined)\n",
      " |  \n",
      " |  ----------------------------------------------------------------------\n",
      " |  Data and other attributes defined here:\n",
      " |  \n",
      " |  base_stealth_options = ('stderr', 'stdout')\n",
      " |  \n",
      " |  help = ''\n",
      " |  \n",
      " |  output_transaction = False\n",
      " |  \n",
      " |  requires_migrations_checks = False\n",
      " |  \n",
      " |  requires_system_checks = '__all__'\n",
      " |  \n",
      " |  stealth_options = ()\n",
      "\n"
     ]
    }
   ],
   "source": [
    "from django.core.management.base import BaseCommand\n",
    "help(BaseCommand)"
   ]
  }
 ],
 "metadata": {
  "kernelspec": {
   "display_name": "Django Shell-Plus",
   "language": "python",
   "name": "django_extensions"
  },
  "language_info": {
   "codemirror_mode": {
    "name": "ipython",
    "version": 3
   },
   "file_extension": ".py",
   "mimetype": "text/x-python",
   "name": "python",
   "nbconvert_exporter": "python",
   "pygments_lexer": "ipython3",
   "version": "3.8.10"
  }
 },
 "nbformat": 4,
 "nbformat_minor": 5
}
